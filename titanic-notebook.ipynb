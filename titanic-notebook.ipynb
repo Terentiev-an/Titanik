{
 "cells": [
  {
   "cell_type": "code",
   "execution_count": 1,
   "id": "bb98129a",
   "metadata": {
    "execution": {
     "iopub.execute_input": "2022-10-19T13:43:59.155211Z",
     "iopub.status.busy": "2022-10-19T13:43:59.154577Z",
     "iopub.status.idle": "2022-10-19T13:44:01.073503Z",
     "shell.execute_reply": "2022-10-19T13:44:01.072649Z"
    },
    "papermill": {
     "duration": 1.935842,
     "end_time": "2022-10-19T13:44:01.075727",
     "exception": false,
     "start_time": "2022-10-19T13:43:59.139885",
     "status": "completed"
    },
    "tags": []
   },
   "outputs": [],
   "source": [
    "# NumPy\n",
    "import numpy as np\n",
    "\n",
    "# Dataframe operations\n",
    "import pandas as pd\n",
    "\n",
    "# Data visualization\n",
    "import seaborn as sns\n",
    "import matplotlib.pyplot as plt\n",
    "\n",
    "# Scalers\n",
    "from sklearn.preprocessing import MinMaxScaler, StandardScaler\n",
    "\n",
    "\n",
    "# Models\n",
    "from sklearn.linear_model import LogisticRegression #logistic regression\n",
    "from sklearn.svm import SVC #support vector Machine\n",
    "from sklearn.ensemble import RandomForestClassifier #Random Forest\n",
    "from sklearn.neighbors import KNeighborsClassifier #KNN\n",
    "from sklearn.naive_bayes import GaussianNB #Naive bayes\n",
    "from sklearn.tree import DecisionTreeClassifier #Decision Tree\n",
    "from sklearn.model_selection import train_test_split #training and testing data split\n",
    "from sklearn import metrics #accuracy measure\n",
    "from sklearn.metrics import confusion_matrix #for confusion matrix\n",
    "from sklearn.ensemble import VotingClassifier\n",
    "from sklearn.ensemble import AdaBoostClassifier\n",
    "from sklearn.neural_network import MLPClassifier\n",
    "import xgboost as xgb\n",
    "\n",
    "# Cross-validation\n",
    "from sklearn.model_selection import KFold #for K-fold cross validation\n",
    "from sklearn.model_selection import cross_val_score #score evaluation\n",
    "from sklearn.model_selection import cross_val_predict #prediction\n",
    "from sklearn.model_selection import cross_validate\n",
    "\n",
    "# GridSearchCV\n",
    "from sklearn.model_selection import GridSearchCV\n",
    "\n",
    "#Common Model Algorithms\n",
    "from sklearn import svm, tree, linear_model, neighbors, naive_bayes, ensemble, discriminant_analysis, gaussian_process\n",
    "\n",
    "#Common Model Helpers\n",
    "from sklearn.preprocessing import OneHotEncoder, LabelEncoder\n",
    "from sklearn import feature_selection\n",
    "from sklearn import model_selection\n",
    "from sklearn import metrics\n",
    "\n",
    "from tqdm import tqdm"
   ]
  },
  {
   "cell_type": "code",
   "execution_count": 2,
   "id": "f18ac535",
   "metadata": {
    "execution": {
     "iopub.execute_input": "2022-10-19T13:44:01.102320Z",
     "iopub.status.busy": "2022-10-19T13:44:01.101993Z",
     "iopub.status.idle": "2022-10-19T13:44:01.145719Z",
     "shell.execute_reply": "2022-10-19T13:44:01.144201Z"
    },
    "papermill": {
     "duration": 0.060548,
     "end_time": "2022-10-19T13:44:01.148094",
     "exception": false,
     "start_time": "2022-10-19T13:44:01.087546",
     "status": "completed"
    },
    "tags": []
   },
   "outputs": [],
   "source": [
    "train_df = pd.read_csv(\"../input/titanic/train.csv\")\n",
    "test_df = pd.read_csv(\"../input/titanic/test.csv\")\n",
    "data_df = train_df.append(test_df) # The entire data: train + test."
   ]
  },
  {
   "cell_type": "code",
   "execution_count": null,
   "id": "b3355f02",
   "metadata": {
    "papermill": {
     "duration": 0.012036,
     "end_time": "2022-10-19T13:44:01.172670",
     "exception": false,
     "start_time": "2022-10-19T13:44:01.160634",
     "status": "completed"
    },
    "tags": []
   },
   "outputs": [],
   "source": []
  },
  {
   "cell_type": "code",
   "execution_count": 3,
   "id": "4663b024",
   "metadata": {
    "execution": {
     "iopub.execute_input": "2022-10-19T13:44:01.198450Z",
     "iopub.status.busy": "2022-10-19T13:44:01.198058Z",
     "iopub.status.idle": "2022-10-19T13:44:05.477563Z",
     "shell.execute_reply": "2022-10-19T13:44:05.475490Z"
    },
    "papermill": {
     "duration": 4.29547,
     "end_time": "2022-10-19T13:44:05.480155",
     "exception": false,
     "start_time": "2022-10-19T13:44:01.184685",
     "status": "completed"
    },
    "tags": []
   },
   "outputs": [],
   "source": [
    "data_df['Title'] = data_df['Name']\n",
    "# Cleaning name and extracting Title\n",
    "for name_string in data_df['Name']:\n",
    "    data_df['Title'] = data_df['Name'].str.extract('([A-Za-z]+)\\.', expand=True)\n",
    "\n",
    "# Replacing rare titles with more common ones\n",
    "mapping = {'Mlle': 'Miss', 'Major': 'Mr', 'Col': 'Mr', 'Sir': 'Mr', 'Don': 'Mr', 'Mme': 'Miss',\n",
    "          'Jonkheer': 'Mr', 'Lady': 'Mrs', 'Capt': 'Mr', 'Countess': 'Mrs', 'Ms': 'Miss', 'Dona': 'Mrs'}\n",
    "data_df.replace({'Title': mapping}, inplace=True)\n",
    "titles = ['Dr', 'Master', 'Miss', 'Mr', 'Mrs', 'Rev']\n",
    "for title in titles:\n",
    "    age_to_impute = data_df.groupby('Title')['Age'].median()[titles.index(title)]\n",
    "    data_df.loc[(data_df['Age'].isnull()) & (data_df['Title'] == title), 'Age'] = age_to_impute\n",
    "    \n",
    "# Substituting Age values in TRAIN_DF and TEST_DF:\n",
    "train_df['Age'] = data_df['Age'][:891]\n",
    "test_df['Age'] = data_df['Age'][891:]\n",
    "\n",
    "# Dropping Title feature\n",
    "data_df.drop('Title', axis = 1, inplace = True)"
   ]
  },
  {
   "cell_type": "code",
   "execution_count": 4,
   "id": "5aa8c097",
   "metadata": {
    "execution": {
     "iopub.execute_input": "2022-10-19T13:44:05.507064Z",
     "iopub.status.busy": "2022-10-19T13:44:05.506715Z",
     "iopub.status.idle": "2022-10-19T13:44:05.529700Z",
     "shell.execute_reply": "2022-10-19T13:44:05.528379Z"
    },
    "papermill": {
     "duration": 0.039439,
     "end_time": "2022-10-19T13:44:05.531915",
     "exception": false,
     "start_time": "2022-10-19T13:44:05.492476",
     "status": "completed"
    },
    "tags": []
   },
   "outputs": [
    {
     "data": {
      "text/html": [
       "<div>\n",
       "<style scoped>\n",
       "    .dataframe tbody tr th:only-of-type {\n",
       "        vertical-align: middle;\n",
       "    }\n",
       "\n",
       "    .dataframe tbody tr th {\n",
       "        vertical-align: top;\n",
       "    }\n",
       "\n",
       "    .dataframe thead th {\n",
       "        text-align: right;\n",
       "    }\n",
       "</style>\n",
       "<table border=\"1\" class=\"dataframe\">\n",
       "  <thead>\n",
       "    <tr style=\"text-align: right;\">\n",
       "      <th></th>\n",
       "      <th>PassengerId</th>\n",
       "      <th>Survived</th>\n",
       "      <th>Pclass</th>\n",
       "      <th>Name</th>\n",
       "      <th>Sex</th>\n",
       "      <th>Age</th>\n",
       "      <th>SibSp</th>\n",
       "      <th>Parch</th>\n",
       "      <th>Ticket</th>\n",
       "      <th>Fare</th>\n",
       "      <th>Cabin</th>\n",
       "      <th>Embarked</th>\n",
       "    </tr>\n",
       "  </thead>\n",
       "  <tbody>\n",
       "    <tr>\n",
       "      <th>0</th>\n",
       "      <td>1</td>\n",
       "      <td>0</td>\n",
       "      <td>3</td>\n",
       "      <td>Braund, Mr. Owen Harris</td>\n",
       "      <td>male</td>\n",
       "      <td>22.0</td>\n",
       "      <td>1</td>\n",
       "      <td>0</td>\n",
       "      <td>A/5 21171</td>\n",
       "      <td>7.2500</td>\n",
       "      <td>NaN</td>\n",
       "      <td>S</td>\n",
       "    </tr>\n",
       "    <tr>\n",
       "      <th>1</th>\n",
       "      <td>2</td>\n",
       "      <td>1</td>\n",
       "      <td>1</td>\n",
       "      <td>Cumings, Mrs. John Bradley (Florence Briggs Th...</td>\n",
       "      <td>female</td>\n",
       "      <td>38.0</td>\n",
       "      <td>1</td>\n",
       "      <td>0</td>\n",
       "      <td>PC 17599</td>\n",
       "      <td>71.2833</td>\n",
       "      <td>C85</td>\n",
       "      <td>C</td>\n",
       "    </tr>\n",
       "    <tr>\n",
       "      <th>2</th>\n",
       "      <td>3</td>\n",
       "      <td>1</td>\n",
       "      <td>3</td>\n",
       "      <td>Heikkinen, Miss. Laina</td>\n",
       "      <td>female</td>\n",
       "      <td>26.0</td>\n",
       "      <td>0</td>\n",
       "      <td>0</td>\n",
       "      <td>STON/O2. 3101282</td>\n",
       "      <td>7.9250</td>\n",
       "      <td>NaN</td>\n",
       "      <td>S</td>\n",
       "    </tr>\n",
       "    <tr>\n",
       "      <th>3</th>\n",
       "      <td>4</td>\n",
       "      <td>1</td>\n",
       "      <td>1</td>\n",
       "      <td>Futrelle, Mrs. Jacques Heath (Lily May Peel)</td>\n",
       "      <td>female</td>\n",
       "      <td>35.0</td>\n",
       "      <td>1</td>\n",
       "      <td>0</td>\n",
       "      <td>113803</td>\n",
       "      <td>53.1000</td>\n",
       "      <td>C123</td>\n",
       "      <td>S</td>\n",
       "    </tr>\n",
       "    <tr>\n",
       "      <th>4</th>\n",
       "      <td>5</td>\n",
       "      <td>0</td>\n",
       "      <td>3</td>\n",
       "      <td>Allen, Mr. William Henry</td>\n",
       "      <td>male</td>\n",
       "      <td>35.0</td>\n",
       "      <td>0</td>\n",
       "      <td>0</td>\n",
       "      <td>373450</td>\n",
       "      <td>8.0500</td>\n",
       "      <td>NaN</td>\n",
       "      <td>S</td>\n",
       "    </tr>\n",
       "  </tbody>\n",
       "</table>\n",
       "</div>"
      ],
      "text/plain": [
       "   PassengerId  Survived  Pclass  \\\n",
       "0            1         0       3   \n",
       "1            2         1       1   \n",
       "2            3         1       3   \n",
       "3            4         1       1   \n",
       "4            5         0       3   \n",
       "\n",
       "                                                Name     Sex   Age  SibSp  \\\n",
       "0                            Braund, Mr. Owen Harris    male  22.0      1   \n",
       "1  Cumings, Mrs. John Bradley (Florence Briggs Th...  female  38.0      1   \n",
       "2                             Heikkinen, Miss. Laina  female  26.0      0   \n",
       "3       Futrelle, Mrs. Jacques Heath (Lily May Peel)  female  35.0      1   \n",
       "4                           Allen, Mr. William Henry    male  35.0      0   \n",
       "\n",
       "   Parch            Ticket     Fare Cabin Embarked  \n",
       "0      0         A/5 21171   7.2500   NaN        S  \n",
       "1      0          PC 17599  71.2833   C85        C  \n",
       "2      0  STON/O2. 3101282   7.9250   NaN        S  \n",
       "3      0            113803  53.1000  C123        S  \n",
       "4      0            373450   8.0500   NaN        S  "
      ]
     },
     "execution_count": 4,
     "metadata": {},
     "output_type": "execute_result"
    }
   ],
   "source": [
    "train_df.head()"
   ]
  },
  {
   "cell_type": "code",
   "execution_count": 5,
   "id": "71f02b6c",
   "metadata": {
    "execution": {
     "iopub.execute_input": "2022-10-19T13:44:05.559674Z",
     "iopub.status.busy": "2022-10-19T13:44:05.559021Z",
     "iopub.status.idle": "2022-10-19T13:44:05.565707Z",
     "shell.execute_reply": "2022-10-19T13:44:05.564699Z"
    },
    "papermill": {
     "duration": 0.022897,
     "end_time": "2022-10-19T13:44:05.567953",
     "exception": false,
     "start_time": "2022-10-19T13:44:05.545056",
     "status": "completed"
    },
    "tags": []
   },
   "outputs": [],
   "source": [
    "data_df['Family_Size'] = data_df['Parch'] + data_df['SibSp']\n",
    "\n",
    "# Substituting Age values in TRAIN_DF and TEST_DF:\n",
    "train_df['Family_Size'] = data_df['Family_Size'][:891]\n",
    "test_df['Family_Size'] = data_df['Family_Size'][891:]"
   ]
  },
  {
   "cell_type": "code",
   "execution_count": 6,
   "id": "dca71b8b",
   "metadata": {
    "execution": {
     "iopub.execute_input": "2022-10-19T13:44:05.594898Z",
     "iopub.status.busy": "2022-10-19T13:44:05.594392Z",
     "iopub.status.idle": "2022-10-19T13:44:06.302118Z",
     "shell.execute_reply": "2022-10-19T13:44:06.300174Z"
    },
    "papermill": {
     "duration": 0.72471,
     "end_time": "2022-10-19T13:44:06.305260",
     "exception": false,
     "start_time": "2022-10-19T13:44:05.580550",
     "status": "completed"
    },
    "tags": []
   },
   "outputs": [
    {
     "name": "stdout",
     "output_type": "stream",
     "text": [
      "Number of passengers with family survival information: 420\n"
     ]
    }
   ],
   "source": [
    "data_df['Last_Name'] = data_df['Name'].apply(lambda x: str.split(x, \",\")[0])\n",
    "data_df['Fare'].fillna(data_df['Fare'].mean(), inplace=True)\n",
    "\n",
    "DEFAULT_SURVIVAL_VALUE = 0.5\n",
    "data_df['Family_Survival'] = DEFAULT_SURVIVAL_VALUE\n",
    "\n",
    "for grp, grp_df in data_df[['Survived','Name', 'Last_Name', 'Fare', 'Ticket', 'PassengerId',\n",
    "                           'SibSp', 'Parch', 'Age', 'Cabin']].groupby(['Last_Name', 'Fare']):\n",
    "    \n",
    "    if (len(grp_df) != 1):\n",
    "        # A Family group is found.\n",
    "        for ind, row in grp_df.iterrows():\n",
    "            smax = grp_df.drop(ind)['Survived'].max()\n",
    "            smin = grp_df.drop(ind)['Survived'].min()\n",
    "            passID = row['PassengerId']\n",
    "            if (smax == 1.0):\n",
    "                data_df.loc[data_df['PassengerId'] == passID, 'Family_Survival'] = 1\n",
    "            elif (smin==0.0):\n",
    "                data_df.loc[data_df['PassengerId'] == passID, 'Family_Survival'] = 0\n",
    "\n",
    "print(\"Number of passengers with family survival information:\", \n",
    "      data_df.loc[data_df['Family_Survival']!=0.5].shape[0])"
   ]
  },
  {
   "cell_type": "code",
   "execution_count": 7,
   "id": "124490eb",
   "metadata": {
    "execution": {
     "iopub.execute_input": "2022-10-19T13:44:06.331649Z",
     "iopub.status.busy": "2022-10-19T13:44:06.331316Z",
     "iopub.status.idle": "2022-10-19T13:44:06.840675Z",
     "shell.execute_reply": "2022-10-19T13:44:06.839161Z"
    },
    "papermill": {
     "duration": 0.526211,
     "end_time": "2022-10-19T13:44:06.843931",
     "exception": false,
     "start_time": "2022-10-19T13:44:06.317720",
     "status": "completed"
    },
    "tags": []
   },
   "outputs": [
    {
     "name": "stdout",
     "output_type": "stream",
     "text": [
      "Number of passenger with family/group survival information: 546\n"
     ]
    }
   ],
   "source": [
    "for _, grp_df in data_df.groupby('Ticket'):\n",
    "    if (len(grp_df) != 1):\n",
    "        for ind, row in grp_df.iterrows():\n",
    "            if (row['Family_Survival'] == 0) | (row['Family_Survival']== 0.5):\n",
    "                smax = grp_df.drop(ind)['Survived'].max()\n",
    "                smin = grp_df.drop(ind)['Survived'].min()\n",
    "                passID = row['PassengerId']\n",
    "                if (smax == 1.0):\n",
    "                    data_df.loc[data_df['PassengerId'] == passID, 'Family_Survival'] = 1\n",
    "                elif (smin==0.0):\n",
    "                    data_df.loc[data_df['PassengerId'] == passID, 'Family_Survival'] = 0\n",
    "                        \n",
    "print(\"Number of passenger with family/group survival information: \" \n",
    "      +str(data_df[data_df['Family_Survival']!=0.5].shape[0]))\n",
    "\n",
    "# # Family_Survival in TRAIN_DF and TEST_DF:\n",
    "train_df['Family_Survival'] = data_df['Family_Survival'][:891]\n",
    "test_df['Family_Survival'] = data_df['Family_Survival'][891:]"
   ]
  },
  {
   "cell_type": "code",
   "execution_count": 8,
   "id": "03d144c7",
   "metadata": {
    "execution": {
     "iopub.execute_input": "2022-10-19T13:44:06.873450Z",
     "iopub.status.busy": "2022-10-19T13:44:06.872122Z",
     "iopub.status.idle": "2022-10-19T13:44:06.898065Z",
     "shell.execute_reply": "2022-10-19T13:44:06.896905Z"
    },
    "papermill": {
     "duration": 0.042062,
     "end_time": "2022-10-19T13:44:06.900583",
     "exception": false,
     "start_time": "2022-10-19T13:44:06.858521",
     "status": "completed"
    },
    "tags": []
   },
   "outputs": [],
   "source": [
    "data_df['Fare'].fillna(data_df['Fare'].median(), inplace = True)\n",
    "\n",
    "# Making Bins\n",
    "data_df['FareBin'] = pd.qcut(data_df['Fare'], 5)\n",
    "\n",
    "label = LabelEncoder()\n",
    "data_df['FareBin_Code'] = label.fit_transform(data_df['FareBin'])\n",
    "\n",
    "train_df['FareBin_Code'] = data_df['FareBin_Code'][:891]\n",
    "test_df['FareBin_Code'] = data_df['FareBin_Code'][891:]\n",
    "\n",
    "train_df.drop(['Fare'], axis=1, inplace=True)\n",
    "test_df.drop(['Fare'], axis=1, inplace=True)"
   ]
  },
  {
   "cell_type": "code",
   "execution_count": 9,
   "id": "2a32f40b",
   "metadata": {
    "execution": {
     "iopub.execute_input": "2022-10-19T13:44:06.927578Z",
     "iopub.status.busy": "2022-10-19T13:44:06.927236Z",
     "iopub.status.idle": "2022-10-19T13:44:06.942758Z",
     "shell.execute_reply": "2022-10-19T13:44:06.941489Z"
    },
    "papermill": {
     "duration": 0.031799,
     "end_time": "2022-10-19T13:44:06.944967",
     "exception": false,
     "start_time": "2022-10-19T13:44:06.913168",
     "status": "completed"
    },
    "tags": []
   },
   "outputs": [],
   "source": [
    "data_df['AgeBin'] = pd.qcut(data_df['Age'], 4)\n",
    "\n",
    "label = LabelEncoder()\n",
    "data_df['AgeBin_Code'] = label.fit_transform(data_df['AgeBin'])\n",
    "\n",
    "train_df['AgeBin_Code'] = data_df['AgeBin_Code'][:891]\n",
    "test_df['AgeBin_Code'] = data_df['AgeBin_Code'][891:]\n",
    "\n",
    "train_df.drop(['Age'],axis=1, inplace=True)\n",
    "test_df.drop(['Age'], axis=1, inplace=True)"
   ]
  },
  {
   "cell_type": "code",
   "execution_count": 10,
   "id": "8e737607",
   "metadata": {
    "execution": {
     "iopub.execute_input": "2022-10-19T13:44:06.972002Z",
     "iopub.status.busy": "2022-10-19T13:44:06.971671Z",
     "iopub.status.idle": "2022-10-19T13:44:06.982263Z",
     "shell.execute_reply": "2022-10-19T13:44:06.980926Z"
    },
    "papermill": {
     "duration": 0.027183,
     "end_time": "2022-10-19T13:44:06.984986",
     "exception": false,
     "start_time": "2022-10-19T13:44:06.957803",
     "status": "completed"
    },
    "tags": []
   },
   "outputs": [],
   "source": [
    "train_df['Sex'].replace(['male','female'],[0,1],inplace=True)\n",
    "test_df['Sex'].replace(['male','female'],[0,1],inplace=True)\n",
    "\n",
    "train_df.drop(['Name', 'PassengerId', 'SibSp', 'Parch', 'Ticket', 'Cabin',\n",
    "               'Embarked'], axis = 1, inplace = True)\n",
    "test_df.drop(['Name','PassengerId', 'SibSp', 'Parch', 'Ticket', 'Cabin',\n",
    "              'Embarked'], axis = 1, inplace = True)"
   ]
  },
  {
   "cell_type": "code",
   "execution_count": null,
   "id": "d253fb9e",
   "metadata": {
    "papermill": {
     "duration": 0.011329,
     "end_time": "2022-10-19T13:44:07.008540",
     "exception": false,
     "start_time": "2022-10-19T13:44:06.997211",
     "status": "completed"
    },
    "tags": []
   },
   "outputs": [],
   "source": []
  },
  {
   "cell_type": "code",
   "execution_count": 11,
   "id": "41c58a31",
   "metadata": {
    "execution": {
     "iopub.execute_input": "2022-10-19T13:44:07.034432Z",
     "iopub.status.busy": "2022-10-19T13:44:07.033989Z",
     "iopub.status.idle": "2022-10-19T13:44:07.040980Z",
     "shell.execute_reply": "2022-10-19T13:44:07.039774Z"
    },
    "papermill": {
     "duration": 0.023067,
     "end_time": "2022-10-19T13:44:07.043504",
     "exception": false,
     "start_time": "2022-10-19T13:44:07.020437",
     "status": "completed"
    },
    "tags": []
   },
   "outputs": [],
   "source": [
    "X = train_df.drop('Survived', axis=1)\n",
    "y = train_df['Survived']\n",
    "X_test = test_df.copy()"
   ]
  },
  {
   "cell_type": "code",
   "execution_count": null,
   "id": "12a747c5",
   "metadata": {
    "papermill": {
     "duration": 0.012218,
     "end_time": "2022-10-19T13:44:07.068238",
     "exception": false,
     "start_time": "2022-10-19T13:44:07.056020",
     "status": "completed"
    },
    "tags": []
   },
   "outputs": [],
   "source": []
  },
  {
   "cell_type": "code",
   "execution_count": 12,
   "id": "356ae3eb",
   "metadata": {
    "execution": {
     "iopub.execute_input": "2022-10-19T13:44:07.093914Z",
     "iopub.status.busy": "2022-10-19T13:44:07.093541Z",
     "iopub.status.idle": "2022-10-19T13:44:07.105691Z",
     "shell.execute_reply": "2022-10-19T13:44:07.104645Z"
    },
    "papermill": {
     "duration": 0.027825,
     "end_time": "2022-10-19T13:44:07.108035",
     "exception": false,
     "start_time": "2022-10-19T13:44:07.080210",
     "status": "completed"
    },
    "tags": []
   },
   "outputs": [],
   "source": [
    "std_scaler = StandardScaler()\n",
    "X = pd.DataFrame(std_scaler.fit_transform(X))\n",
    "X_test = pd.DataFrame(std_scaler.transform(X_test))"
   ]
  },
  {
   "cell_type": "markdown",
   "id": "91efb971",
   "metadata": {
    "papermill": {
     "duration": 0.012384,
     "end_time": "2022-10-19T13:44:07.132435",
     "exception": false,
     "start_time": "2022-10-19T13:44:07.120051",
     "status": "completed"
    },
    "tags": []
   },
   "source": []
  },
  {
   "cell_type": "code",
   "execution_count": 13,
   "id": "ff1062c3",
   "metadata": {
    "execution": {
     "iopub.execute_input": "2022-10-19T13:44:07.159440Z",
     "iopub.status.busy": "2022-10-19T13:44:07.159056Z",
     "iopub.status.idle": "2022-10-19T13:44:14.362332Z",
     "shell.execute_reply": "2022-10-19T13:44:14.360489Z"
    },
    "papermill": {
     "duration": 7.219846,
     "end_time": "2022-10-19T13:44:14.365111",
     "exception": false,
     "start_time": "2022-10-19T13:44:07.145265",
     "status": "completed"
    },
    "tags": []
   },
   "outputs": [
    {
     "name": "stdout",
     "output_type": "stream",
     "text": [
      "Fitting 10 folds for each of 120 candidates, totalling 1200 fits\n",
      "0.8786918484565543\n",
      "KNeighborsClassifier(leaf_size=26, n_neighbors=13)\n"
     ]
    }
   ],
   "source": [
    "n_neighbors = [12,13,14]\n",
    "algorithm = ['auto']\n",
    "weights = ['uniform', 'distance']\n",
    "leaf_size = list(range(10,30,1))\n",
    "hyperparams = {'algorithm': algorithm, 'weights': weights, 'leaf_size': leaf_size, \n",
    "               'n_neighbors': n_neighbors}\n",
    "gd=GridSearchCV(estimator = KNeighborsClassifier(), param_grid = hyperparams, verbose=True, \n",
    "                cv=10, scoring = \"roc_auc\")\n",
    "gd.fit(X, y)\n",
    "print(gd.best_score_)\n",
    "print(gd.best_estimator_)"
   ]
  },
  {
   "cell_type": "code",
   "execution_count": 14,
   "id": "35c45bed",
   "metadata": {
    "execution": {
     "iopub.execute_input": "2022-10-19T13:44:14.394230Z",
     "iopub.status.busy": "2022-10-19T13:44:14.393808Z",
     "iopub.status.idle": "2022-10-19T13:44:14.418897Z",
     "shell.execute_reply": "2022-10-19T13:44:14.417039Z"
    },
    "papermill": {
     "duration": 0.042146,
     "end_time": "2022-10-19T13:44:14.421411",
     "exception": false,
     "start_time": "2022-10-19T13:44:14.379265",
     "status": "completed"
    },
    "tags": []
   },
   "outputs": [],
   "source": [
    "gd.best_estimator_.fit(X, y)\n",
    "y_pred = gd.best_estimator_.predict(X_test)\n"
   ]
  },
  {
   "cell_type": "code",
   "execution_count": 15,
   "id": "4cbe8627",
   "metadata": {
    "execution": {
     "iopub.execute_input": "2022-10-19T13:44:14.449349Z",
     "iopub.status.busy": "2022-10-19T13:44:14.449000Z",
     "iopub.status.idle": "2022-10-19T13:44:14.454829Z",
     "shell.execute_reply": "2022-10-19T13:44:14.452994Z"
    },
    "papermill": {
     "duration": 0.022854,
     "end_time": "2022-10-19T13:44:14.457548",
     "exception": false,
     "start_time": "2022-10-19T13:44:14.434694",
     "status": "completed"
    },
    "tags": []
   },
   "outputs": [],
   "source": [
    "#CV_Score = cross_val_score(gd, X, y, cv=5)\n",
    "#print(CV_Score)\n",
    "#CV_Score.mean()"
   ]
  },
  {
   "cell_type": "code",
   "execution_count": null,
   "id": "c4a3dfd8",
   "metadata": {
    "papermill": {
     "duration": 0.01371,
     "end_time": "2022-10-19T13:44:14.484370",
     "exception": false,
     "start_time": "2022-10-19T13:44:14.470660",
     "status": "completed"
    },
    "tags": []
   },
   "outputs": [],
   "source": []
  },
  {
   "cell_type": "code",
   "execution_count": 16,
   "id": "7e4cc978",
   "metadata": {
    "execution": {
     "iopub.execute_input": "2022-10-19T13:44:14.511941Z",
     "iopub.status.busy": "2022-10-19T13:44:14.511404Z",
     "iopub.status.idle": "2022-10-19T13:44:14.535378Z",
     "shell.execute_reply": "2022-10-19T13:44:14.533478Z"
    },
    "papermill": {
     "duration": 0.040632,
     "end_time": "2022-10-19T13:44:14.537865",
     "exception": false,
     "start_time": "2022-10-19T13:44:14.497233",
     "status": "completed"
    },
    "tags": []
   },
   "outputs": [],
   "source": [
    "knn = KNeighborsClassifier(algorithm='auto', leaf_size=26, metric='minkowski', \n",
    "                           metric_params=None, n_jobs=1, n_neighbors=5, p=2, \n",
    "                           weights='uniform')\n",
    "knn.fit(X, y)\n",
    "y_pred = knn.predict(X_test)"
   ]
  },
  {
   "cell_type": "code",
   "execution_count": 17,
   "id": "832ad303",
   "metadata": {
    "execution": {
     "iopub.execute_input": "2022-10-19T13:44:14.564628Z",
     "iopub.status.busy": "2022-10-19T13:44:14.564297Z",
     "iopub.status.idle": "2022-10-19T13:44:14.599048Z",
     "shell.execute_reply": "2022-10-19T13:44:14.597465Z"
    },
    "papermill": {
     "duration": 0.051167,
     "end_time": "2022-10-19T13:44:14.601611",
     "exception": false,
     "start_time": "2022-10-19T13:44:14.550444",
     "status": "completed"
    },
    "tags": []
   },
   "outputs": [
    {
     "data": {
      "text/plain": [
       "0.8619528619528619"
      ]
     },
     "execution_count": 17,
     "metadata": {},
     "output_type": "execute_result"
    }
   ],
   "source": [
    "knn.score(X,y)"
   ]
  },
  {
   "cell_type": "code",
   "execution_count": 18,
   "id": "1d8c28b3",
   "metadata": {
    "execution": {
     "iopub.execute_input": "2022-10-19T13:44:14.627470Z",
     "iopub.status.busy": "2022-10-19T13:44:14.627109Z",
     "iopub.status.idle": "2022-10-19T13:44:14.686483Z",
     "shell.execute_reply": "2022-10-19T13:44:14.684814Z"
    },
    "papermill": {
     "duration": 0.074855,
     "end_time": "2022-10-19T13:44:14.688719",
     "exception": false,
     "start_time": "2022-10-19T13:44:14.613864",
     "status": "completed"
    },
    "tags": []
   },
   "outputs": [
    {
     "name": "stdout",
     "output_type": "stream",
     "text": [
      "[0.79888268 0.81460674 0.87078652 0.80898876 0.84831461]\n"
     ]
    },
    {
     "data": {
      "text/plain": [
       "0.8283158621555458"
      ]
     },
     "execution_count": 18,
     "metadata": {},
     "output_type": "execute_result"
    }
   ],
   "source": [
    "CV_Score = cross_val_score(knn, X, y, cv=5)\n",
    "print(CV_Score)\n",
    "CV_Score.mean()"
   ]
  },
  {
   "cell_type": "code",
   "execution_count": null,
   "id": "99085502",
   "metadata": {
    "papermill": {
     "duration": 0.012139,
     "end_time": "2022-10-19T13:44:14.713358",
     "exception": false,
     "start_time": "2022-10-19T13:44:14.701219",
     "status": "completed"
    },
    "tags": []
   },
   "outputs": [],
   "source": []
  },
  {
   "cell_type": "code",
   "execution_count": 19,
   "id": "e191fcbc",
   "metadata": {
    "execution": {
     "iopub.execute_input": "2022-10-19T13:44:14.740895Z",
     "iopub.status.busy": "2022-10-19T13:44:14.740525Z",
     "iopub.status.idle": "2022-10-19T13:44:14.765207Z",
     "shell.execute_reply": "2022-10-19T13:44:14.764361Z"
    },
    "papermill": {
     "duration": 0.040617,
     "end_time": "2022-10-19T13:44:14.766915",
     "exception": false,
     "start_time": "2022-10-19T13:44:14.726298",
     "status": "completed"
    },
    "tags": []
   },
   "outputs": [
    {
     "data": {
      "text/plain": [
       "[[0.8305274971941639, 0.01]]"
      ]
     },
     "execution_count": 19,
     "metadata": {},
     "output_type": "execute_result"
    }
   ],
   "source": [
    "list_score = []\n",
    "k=0.01\n",
    "for i in (range(1)): # подбор оптимального С\n",
    "    \n",
    "    #X_train, X_test, y_train, y_test = train_test_split(x, y, test_size=0.33, random_state=42)\n",
    "    model = LogisticRegression(C=0.02, max_iter=1000).fit(X,y)\n",
    "    y_pred = model.predict(X_test)\n",
    "    list_score.append([model.score(X,y),k])\n",
    "    k=k+0.01\n",
    "\n",
    "list_score"
   ]
  },
  {
   "cell_type": "code",
   "execution_count": 20,
   "id": "11593133",
   "metadata": {
    "execution": {
     "iopub.execute_input": "2022-10-19T13:44:14.793911Z",
     "iopub.status.busy": "2022-10-19T13:44:14.793591Z",
     "iopub.status.idle": "2022-10-19T13:44:14.831418Z",
     "shell.execute_reply": "2022-10-19T13:44:14.830273Z"
    },
    "papermill": {
     "duration": 0.054331,
     "end_time": "2022-10-19T13:44:14.833903",
     "exception": false,
     "start_time": "2022-10-19T13:44:14.779572",
     "status": "completed"
    },
    "tags": []
   },
   "outputs": [
    {
     "name": "stdout",
     "output_type": "stream",
     "text": [
      "[0.81564246 0.8258427  0.83707865 0.8258427  0.84269663]\n"
     ]
    },
    {
     "data": {
      "text/plain": [
       "0.8294206264515724"
      ]
     },
     "execution_count": 20,
     "metadata": {},
     "output_type": "execute_result"
    }
   ],
   "source": [
    "CV_Score = cross_val_score(model, X, y, cv=5)\n",
    "print(CV_Score)\n",
    "CV_Score.mean()"
   ]
  },
  {
   "cell_type": "code",
   "execution_count": 21,
   "id": "685ad9c8",
   "metadata": {
    "execution": {
     "iopub.execute_input": "2022-10-19T13:44:14.862414Z",
     "iopub.status.busy": "2022-10-19T13:44:14.862051Z",
     "iopub.status.idle": "2022-10-19T13:44:14.883776Z",
     "shell.execute_reply": "2022-10-19T13:44:14.882265Z"
    },
    "papermill": {
     "duration": 0.039184,
     "end_time": "2022-10-19T13:44:14.886302",
     "exception": false,
     "start_time": "2022-10-19T13:44:14.847118",
     "status": "completed"
    },
    "tags": []
   },
   "outputs": [
    {
     "name": "stderr",
     "output_type": "stream",
     "text": [
      "100%|██████████| 1/1 [00:00<00:00, 166.54it/s]\n"
     ]
    },
    {
     "data": {
      "text/plain": [
       "[[0.8327721661054994, 1]]"
      ]
     },
     "execution_count": 21,
     "metadata": {},
     "output_type": "execute_result"
    }
   ],
   "source": [
    "z=[]\n",
    "k=1\n",
    "for i in tqdm(range(1)):\n",
    "    #model_tree = DecisionTreeClassifier(max_depth=16, ccp_alpha=0.002).fit(X_train,y_train)\n",
    "    #X_train, X_test, y_train, y_test = train_test_split(x, y, test_size=0.33, random_state=42)\n",
    "    model_tree = DecisionTreeClassifier(max_depth=4,ccp_alpha=0.01).fit(X,y)\n",
    "    y_pred = model_tree.predict(X_test)\n",
    "    z.append([model_tree.score(X,y),k])\n",
    "    k = k + 1\n",
    "z"
   ]
  },
  {
   "cell_type": "code",
   "execution_count": 22,
   "id": "75c13440",
   "metadata": {
    "execution": {
     "iopub.execute_input": "2022-10-19T13:44:14.915167Z",
     "iopub.status.busy": "2022-10-19T13:44:14.914808Z",
     "iopub.status.idle": "2022-10-19T13:44:14.945130Z",
     "shell.execute_reply": "2022-10-19T13:44:14.943493Z"
    },
    "papermill": {
     "duration": 0.047916,
     "end_time": "2022-10-19T13:44:14.947761",
     "exception": false,
     "start_time": "2022-10-19T13:44:14.899845",
     "status": "completed"
    },
    "tags": []
   },
   "outputs": [
    {
     "name": "stdout",
     "output_type": "stream",
     "text": [
      "[0.84916201 0.83146067 0.84269663 0.81460674 0.8258427 ]\n"
     ]
    },
    {
     "data": {
      "text/plain": [
       "0.8327537505492435"
      ]
     },
     "execution_count": 22,
     "metadata": {},
     "output_type": "execute_result"
    }
   ],
   "source": [
    "CV_Score = cross_val_score(model_tree, X, y, cv=5)\n",
    "print(CV_Score)\n",
    "CV_Score.mean()"
   ]
  },
  {
   "cell_type": "markdown",
   "id": "1b0f0d18",
   "metadata": {
    "papermill": {
     "duration": 0.013408,
     "end_time": "2022-10-19T13:44:14.975534",
     "exception": false,
     "start_time": "2022-10-19T13:44:14.962126",
     "status": "completed"
    },
    "tags": []
   },
   "source": []
  },
  {
   "cell_type": "code",
   "execution_count": 23,
   "id": "b4ebf7d8",
   "metadata": {
    "execution": {
     "iopub.execute_input": "2022-10-19T13:44:15.005451Z",
     "iopub.status.busy": "2022-10-19T13:44:15.005101Z",
     "iopub.status.idle": "2022-10-19T13:44:15.074994Z",
     "shell.execute_reply": "2022-10-19T13:44:15.073185Z"
    },
    "papermill": {
     "duration": 0.088157,
     "end_time": "2022-10-19T13:44:15.077565",
     "exception": false,
     "start_time": "2022-10-19T13:44:14.989408",
     "status": "completed"
    },
    "tags": []
   },
   "outputs": [
    {
     "name": "stderr",
     "output_type": "stream",
     "text": [
      "100%|██████████| 1/1 [00:00<00:00, 19.07it/s]\n"
     ]
    },
    {
     "data": {
      "text/plain": [
       "[[0.8507295173961841, 0.5]]"
      ]
     },
     "execution_count": 23,
     "metadata": {},
     "output_type": "execute_result"
    }
   ],
   "source": [
    "cv=[]\n",
    "k=0.5\n",
    "for i in tqdm(range(1)):\n",
    "   # X_train, X_test, y_train, y_test = train_test_split(x, y, test_size=0.33, random_state=42)\n",
    "    model_clf = SVC(kernel='rbf', C=0.5).fit(X,y)\n",
    "    y_pred = model_clf.predict(X_test)\n",
    "    cv.append([model_clf.score(X,y),k])\n",
    "    k = k + 0.05\n",
    "cv"
   ]
  },
  {
   "cell_type": "code",
   "execution_count": 24,
   "id": "4437bb67",
   "metadata": {
    "execution": {
     "iopub.execute_input": "2022-10-19T13:44:15.108229Z",
     "iopub.status.busy": "2022-10-19T13:44:15.107691Z",
     "iopub.status.idle": "2022-10-19T13:44:15.216280Z",
     "shell.execute_reply": "2022-10-19T13:44:15.214418Z"
    },
    "papermill": {
     "duration": 0.126664,
     "end_time": "2022-10-19T13:44:15.218794",
     "exception": false,
     "start_time": "2022-10-19T13:44:15.092130",
     "status": "completed"
    },
    "tags": []
   },
   "outputs": [
    {
     "name": "stdout",
     "output_type": "stream",
     "text": [
      "[0.8603352  0.84831461 0.84831461 0.81460674 0.85393258]\n"
     ]
    },
    {
     "data": {
      "text/plain": [
       "0.8451007469713139"
      ]
     },
     "execution_count": 24,
     "metadata": {},
     "output_type": "execute_result"
    }
   ],
   "source": [
    "CV_Score = cross_val_score(model_clf, X, y, cv=5)\n",
    "print(CV_Score)\n",
    "CV_Score.mean()"
   ]
  },
  {
   "cell_type": "code",
   "execution_count": 25,
   "id": "6f8551f7",
   "metadata": {
    "execution": {
     "iopub.execute_input": "2022-10-19T13:44:15.250029Z",
     "iopub.status.busy": "2022-10-19T13:44:15.249659Z",
     "iopub.status.idle": "2022-10-19T13:44:15.516954Z",
     "shell.execute_reply": "2022-10-19T13:44:15.515799Z"
    },
    "papermill": {
     "duration": 0.285464,
     "end_time": "2022-10-19T13:44:15.519059",
     "exception": false,
     "start_time": "2022-10-19T13:44:15.233595",
     "status": "completed"
    },
    "tags": []
   },
   "outputs": [
    {
     "data": {
      "text/plain": [
       "[[0.8372615039281706, 1]]"
      ]
     },
     "execution_count": 25,
     "metadata": {},
     "output_type": "execute_result"
    }
   ],
   "source": [
    "k_xgb = []\n",
    "k=1\n",
    "for i in range(1):\n",
    "    #X_train, X_test, y_train, y_test = train_test_split(x, y, test_size=0.33, random_state=42)\n",
    "    model_xgb = xgb.XGBClassifier(learning_rate = 0.01, max_depth = 5, n_estimators = 100, subsample = 0.1).fit(X,y)\n",
    "    y_pred = model_xgb.predict(X_test)\n",
    "    k_xgb.append([model_xgb.score(X,y),k])\n",
    "    k = k + 1\n",
    "k_xgb"
   ]
  },
  {
   "cell_type": "code",
   "execution_count": 26,
   "id": "3690c104",
   "metadata": {
    "execution": {
     "iopub.execute_input": "2022-10-19T13:44:15.550348Z",
     "iopub.status.busy": "2022-10-19T13:44:15.549952Z",
     "iopub.status.idle": "2022-10-19T13:44:16.593284Z",
     "shell.execute_reply": "2022-10-19T13:44:16.592153Z"
    },
    "papermill": {
     "duration": 1.061231,
     "end_time": "2022-10-19T13:44:16.595146",
     "exception": false,
     "start_time": "2022-10-19T13:44:15.533915",
     "status": "completed"
    },
    "tags": []
   },
   "outputs": [
    {
     "name": "stdout",
     "output_type": "stream",
     "text": [
      "[0.81564246 0.83146067 0.83146067 0.82022472 0.83146067]\n"
     ]
    },
    {
     "data": {
      "text/plain": [
       "0.8260498399347185"
      ]
     },
     "execution_count": 26,
     "metadata": {},
     "output_type": "execute_result"
    }
   ],
   "source": [
    "CV_Score = cross_val_score(model_xgb, X, y, cv=5)\n",
    "print(CV_Score)\n",
    "CV_Score.mean()"
   ]
  },
  {
   "cell_type": "code",
   "execution_count": 27,
   "id": "a772134c",
   "metadata": {
    "execution": {
     "iopub.execute_input": "2022-10-19T13:44:16.625952Z",
     "iopub.status.busy": "2022-10-19T13:44:16.625601Z",
     "iopub.status.idle": "2022-10-19T13:44:16.673915Z",
     "shell.execute_reply": "2022-10-19T13:44:16.672819Z"
    },
    "papermill": {
     "duration": 0.065834,
     "end_time": "2022-10-19T13:44:16.676030",
     "exception": false,
     "start_time": "2022-10-19T13:44:16.610196",
     "status": "completed"
    },
    "tags": []
   },
   "outputs": [
    {
     "data": {
      "text/plain": [
       "[[0.8922558922558923, 1]]"
      ]
     },
     "execution_count": 27,
     "metadata": {},
     "output_type": "execute_result"
    }
   ],
   "source": [
    "k_KNN = []\n",
    "k=1\n",
    "for i in range(1):\n",
    "    #X_train, X_test, y_train, y_test = train_test_split(x, y, test_size=0.33, random_state=42)\n",
    "    model_KNN = KNeighborsClassifier(algorithm = 'auto', weights = 'distance', leaf_size =1, \n",
    "               n_neighbors = 10).fit(X,y)\n",
    "    y_pred_knn = model_KNN.predict(X_test)\n",
    "    k_KNN.append([model_KNN.score(X,y),k])\n",
    "    k = k + 1\n",
    "k_KNN"
   ]
  },
  {
   "cell_type": "code",
   "execution_count": 28,
   "id": "0dc3438f",
   "metadata": {
    "execution": {
     "iopub.execute_input": "2022-10-19T13:44:16.707320Z",
     "iopub.status.busy": "2022-10-19T13:44:16.706638Z",
     "iopub.status.idle": "2022-10-19T13:44:16.770228Z",
     "shell.execute_reply": "2022-10-19T13:44:16.768034Z"
    },
    "papermill": {
     "duration": 0.081884,
     "end_time": "2022-10-19T13:44:16.772673",
     "exception": false,
     "start_time": "2022-10-19T13:44:16.690789",
     "status": "completed"
    },
    "tags": []
   },
   "outputs": [
    {
     "name": "stdout",
     "output_type": "stream",
     "text": [
      "[0.79888268 0.80337079 0.85393258 0.82022472 0.84831461]\n"
     ]
    },
    {
     "data": {
      "text/plain": [
       "0.8249450756386919"
      ]
     },
     "execution_count": 28,
     "metadata": {},
     "output_type": "execute_result"
    }
   ],
   "source": [
    "CV_Score = cross_val_score(model_KNN, X, y, cv=5)\n",
    "print(CV_Score)\n",
    "CV_Score.mean()\n"
   ]
  },
  {
   "cell_type": "code",
   "execution_count": 29,
   "id": "c634284b",
   "metadata": {
    "execution": {
     "iopub.execute_input": "2022-10-19T13:44:16.803614Z",
     "iopub.status.busy": "2022-10-19T13:44:16.803284Z",
     "iopub.status.idle": "2022-10-19T13:44:16.809058Z",
     "shell.execute_reply": "2022-10-19T13:44:16.807692Z"
    },
    "papermill": {
     "duration": 0.024071,
     "end_time": "2022-10-19T13:44:16.811496",
     "exception": false,
     "start_time": "2022-10-19T13:44:16.787425",
     "status": "completed"
    },
    "tags": []
   },
   "outputs": [],
   "source": [
    "#[0.79888268 0.80337079 0.85393258 0.82022472 0.84831461]\n",
    "#0.8249450756386919"
   ]
  },
  {
   "cell_type": "code",
   "execution_count": 30,
   "id": "a91fe818",
   "metadata": {
    "execution": {
     "iopub.execute_input": "2022-10-19T13:44:16.842650Z",
     "iopub.status.busy": "2022-10-19T13:44:16.842255Z",
     "iopub.status.idle": "2022-10-19T13:44:18.262046Z",
     "shell.execute_reply": "2022-10-19T13:44:18.260538Z"
    },
    "papermill": {
     "duration": 1.438181,
     "end_time": "2022-10-19T13:44:18.264480",
     "exception": false,
     "start_time": "2022-10-19T13:44:16.826299",
     "status": "completed"
    },
    "tags": []
   },
   "outputs": [
    {
     "data": {
      "text/html": [
       "<style type='text/css'>\n",
       ".datatable table.frame { margin-bottom: 0; }\n",
       ".datatable table.frame thead { border-bottom: none; }\n",
       ".datatable table.frame tr.coltypes td {  color: #FFFFFF;  line-height: 6px;  padding: 0 0.5em;}\n",
       ".datatable .bool    { background: #DDDD99; }\n",
       ".datatable .object  { background: #565656; }\n",
       ".datatable .int     { background: #5D9E5D; }\n",
       ".datatable .float   { background: #4040CC; }\n",
       ".datatable .str     { background: #CC4040; }\n",
       ".datatable .time    { background: #40CC40; }\n",
       ".datatable .row_index {  background: var(--jp-border-color3);  border-right: 1px solid var(--jp-border-color0);  color: var(--jp-ui-font-color3);  font-size: 9px;}\n",
       ".datatable .frame tbody td { text-align: left; }\n",
       ".datatable .frame tr.coltypes .row_index {  background: var(--jp-border-color0);}\n",
       ".datatable th:nth-child(2) { padding-left: 12px; }\n",
       ".datatable .hellipsis {  color: var(--jp-cell-editor-border-color);}\n",
       ".datatable .vellipsis {  background: var(--jp-layout-color0);  color: var(--jp-cell-editor-border-color);}\n",
       ".datatable .na {  color: var(--jp-cell-editor-border-color);  font-size: 80%;}\n",
       ".datatable .sp {  opacity: 0.25;}\n",
       ".datatable .footer { font-size: 9px; }\n",
       ".datatable .frame_dimensions {  background: var(--jp-border-color3);  border-top: 1px solid var(--jp-border-color0);  color: var(--jp-ui-font-color3);  display: inline-block;  opacity: 0.6;  padding: 1px 10px 1px 5px;}\n",
       "</style>\n"
      ],
      "text/plain": [
       "<IPython.core.display.HTML object>"
      ]
     },
     "metadata": {},
     "output_type": "display_data"
    }
   ],
   "source": [
    "from sklearn.naive_bayes import GaussianNB\n",
    "from sklearn.ensemble import RandomForestClassifier\n",
    "from lightgbm import LGBMClassifier\n",
    "from catboost import CatBoostClassifier\n",
    "from sklearn.ensemble import AdaBoostClassifier"
   ]
  },
  {
   "cell_type": "code",
   "execution_count": 31,
   "id": "e5b4610c",
   "metadata": {
    "execution": {
     "iopub.execute_input": "2022-10-19T13:44:18.295869Z",
     "iopub.status.busy": "2022-10-19T13:44:18.295529Z",
     "iopub.status.idle": "2022-10-19T13:44:18.491255Z",
     "shell.execute_reply": "2022-10-19T13:44:18.489667Z"
    },
    "papermill": {
     "duration": 0.213764,
     "end_time": "2022-10-19T13:44:18.493171",
     "exception": false,
     "start_time": "2022-10-19T13:44:18.279407",
     "status": "completed"
    },
    "tags": []
   },
   "outputs": [
    {
     "name": "stderr",
     "output_type": "stream",
     "text": [
      "  0%|          | 0/1 [00:00<?, ?it/s]"
     ]
    },
    {
     "data": {
      "application/vnd.jupyter.widget-view+json": {
       "model_id": "dcc5b32b6d3f423d8c7db9ef38e271ff",
       "version_major": 2,
       "version_minor": 0
      },
      "text/plain": [
       "MetricVisualizer(layout=Layout(align_self='stretch', height='500px'))"
      ]
     },
     "metadata": {},
     "output_type": "display_data"
    },
    {
     "name": "stderr",
     "output_type": "stream",
     "text": [
      "100%|██████████| 1/1 [00:00<00:00,  5.53it/s]\n"
     ]
    },
    {
     "data": {
      "text/plain": [
       "[[0.8338945005611672, 1]]"
      ]
     },
     "execution_count": 31,
     "metadata": {},
     "output_type": "execute_result"
    }
   ],
   "source": [
    "cb = []\n",
    "k=1\n",
    "for i in tqdm(range(1)):\n",
    "    #X_train, X_test, y_train, y_test = train_test_split(x, y, test_size=0.33, random_state=42)\n",
    "    model_CatBoost = CatBoostClassifier(iterations=6,\n",
    "    learning_rate=0.01, verbose = False).fit(X,y,plot=True)\n",
    "    y_pred = model_CatBoost.predict(X_test)\n",
    "    cb.append([model_CatBoost.score(X,y),k])\n",
    "    k = k + 1\n",
    "cb\n"
   ]
  },
  {
   "cell_type": "code",
   "execution_count": 32,
   "id": "9f1afc5c",
   "metadata": {
    "execution": {
     "iopub.execute_input": "2022-10-19T13:44:18.526535Z",
     "iopub.status.busy": "2022-10-19T13:44:18.525058Z",
     "iopub.status.idle": "2022-10-19T13:44:18.729912Z",
     "shell.execute_reply": "2022-10-19T13:44:18.729272Z"
    },
    "papermill": {
     "duration": 0.223128,
     "end_time": "2022-10-19T13:44:18.731537",
     "exception": false,
     "start_time": "2022-10-19T13:44:18.508409",
     "status": "completed"
    },
    "tags": []
   },
   "outputs": [
    {
     "name": "stdout",
     "output_type": "stream",
     "text": [
      "[0.7877095  0.8258427  0.84269663 0.8258427  0.8258427 ]\n"
     ]
    },
    {
     "data": {
      "text/plain": [
       "0.8215868432615656"
      ]
     },
     "execution_count": 32,
     "metadata": {},
     "output_type": "execute_result"
    }
   ],
   "source": [
    "CV_Score = cross_val_score(model_CatBoost, X, y, cv=5)\n",
    "print(CV_Score)\n",
    "CV_Score.mean()"
   ]
  },
  {
   "cell_type": "code",
   "execution_count": 33,
   "id": "98719f8d",
   "metadata": {
    "execution": {
     "iopub.execute_input": "2022-10-19T13:44:18.764243Z",
     "iopub.status.busy": "2022-10-19T13:44:18.763612Z",
     "iopub.status.idle": "2022-10-19T13:44:18.768594Z",
     "shell.execute_reply": "2022-10-19T13:44:18.767830Z"
    },
    "papermill": {
     "duration": 0.024316,
     "end_time": "2022-10-19T13:44:18.770879",
     "exception": false,
     "start_time": "2022-10-19T13:44:18.746563",
     "status": "completed"
    },
    "tags": []
   },
   "outputs": [],
   "source": [
    "#std_scaler = StandardScaler()\n",
    "#X['r']= pd.DataFrame(std_scaler.fit_transform(pd.DataFrame(model_KNN.predict(X))))\n"
   ]
  },
  {
   "cell_type": "code",
   "execution_count": 34,
   "id": "03301793",
   "metadata": {
    "execution": {
     "iopub.execute_input": "2022-10-19T13:44:18.802124Z",
     "iopub.status.busy": "2022-10-19T13:44:18.801575Z",
     "iopub.status.idle": "2022-10-19T13:44:18.805777Z",
     "shell.execute_reply": "2022-10-19T13:44:18.804733Z"
    },
    "papermill": {
     "duration": 0.022155,
     "end_time": "2022-10-19T13:44:18.807891",
     "exception": false,
     "start_time": "2022-10-19T13:44:18.785736",
     "status": "completed"
    },
    "tags": []
   },
   "outputs": [],
   "source": [
    "#X\n"
   ]
  },
  {
   "cell_type": "code",
   "execution_count": 35,
   "id": "e034b157",
   "metadata": {
    "execution": {
     "iopub.execute_input": "2022-10-19T13:44:18.839752Z",
     "iopub.status.busy": "2022-10-19T13:44:18.839200Z",
     "iopub.status.idle": "2022-10-19T13:44:18.843770Z",
     "shell.execute_reply": "2022-10-19T13:44:18.842333Z"
    },
    "papermill": {
     "duration": 0.023461,
     "end_time": "2022-10-19T13:44:18.846292",
     "exception": false,
     "start_time": "2022-10-19T13:44:18.822831",
     "status": "completed"
    },
    "tags": []
   },
   "outputs": [],
   "source": [
    "#X_test"
   ]
  },
  {
   "cell_type": "code",
   "execution_count": 36,
   "id": "0a332d81",
   "metadata": {
    "execution": {
     "iopub.execute_input": "2022-10-19T13:44:18.876198Z",
     "iopub.status.busy": "2022-10-19T13:44:18.875881Z",
     "iopub.status.idle": "2022-10-19T13:44:18.879601Z",
     "shell.execute_reply": "2022-10-19T13:44:18.878629Z"
    },
    "papermill": {
     "duration": 0.020547,
     "end_time": "2022-10-19T13:44:18.881373",
     "exception": false,
     "start_time": "2022-10-19T13:44:18.860826",
     "status": "completed"
    },
    "tags": []
   },
   "outputs": [],
   "source": [
    "#X_test['r'] = X['r'][:418]"
   ]
  },
  {
   "cell_type": "code",
   "execution_count": null,
   "id": "c65c2671",
   "metadata": {
    "jupyter": {
     "source_hidden": true
    },
    "papermill": {
     "duration": 0.014358,
     "end_time": "2022-10-19T13:44:18.910947",
     "exception": false,
     "start_time": "2022-10-19T13:44:18.896589",
     "status": "completed"
    },
    "tags": []
   },
   "outputs": [],
   "source": []
  },
  {
   "cell_type": "code",
   "execution_count": 37,
   "id": "a85e4b59",
   "metadata": {
    "execution": {
     "iopub.execute_input": "2022-10-19T13:44:18.943282Z",
     "iopub.status.busy": "2022-10-19T13:44:18.942926Z",
     "iopub.status.idle": "2022-10-19T13:44:18.955955Z",
     "shell.execute_reply": "2022-10-19T13:44:18.954589Z"
    },
    "papermill": {
     "duration": 0.03151,
     "end_time": "2022-10-19T13:44:18.958059",
     "exception": false,
     "start_time": "2022-10-19T13:44:18.926549",
     "status": "completed"
    },
    "tags": []
   },
   "outputs": [
    {
     "data": {
      "text/html": [
       "<div>\n",
       "<style scoped>\n",
       "    .dataframe tbody tr th:only-of-type {\n",
       "        vertical-align: middle;\n",
       "    }\n",
       "\n",
       "    .dataframe tbody tr th {\n",
       "        vertical-align: top;\n",
       "    }\n",
       "\n",
       "    .dataframe thead th {\n",
       "        text-align: right;\n",
       "    }\n",
       "</style>\n",
       "<table border=\"1\" class=\"dataframe\">\n",
       "  <thead>\n",
       "    <tr style=\"text-align: right;\">\n",
       "      <th></th>\n",
       "      <th>0</th>\n",
       "      <th>1</th>\n",
       "      <th>2</th>\n",
       "      <th>3</th>\n",
       "      <th>4</th>\n",
       "      <th>5</th>\n",
       "    </tr>\n",
       "  </thead>\n",
       "  <tbody>\n",
       "    <tr>\n",
       "      <th>0</th>\n",
       "      <td>0.827377</td>\n",
       "      <td>-0.737695</td>\n",
       "      <td>0.059160</td>\n",
       "      <td>-0.060661</td>\n",
       "      <td>-1.407144</td>\n",
       "      <td>-1.143781</td>\n",
       "    </tr>\n",
       "    <tr>\n",
       "      <th>1</th>\n",
       "      <td>-1.566107</td>\n",
       "      <td>1.355574</td>\n",
       "      <td>0.059160</td>\n",
       "      <td>-0.060661</td>\n",
       "      <td>1.429429</td>\n",
       "      <td>1.540439</td>\n",
       "    </tr>\n",
       "    <tr>\n",
       "      <th>2</th>\n",
       "      <td>0.827377</td>\n",
       "      <td>1.355574</td>\n",
       "      <td>-0.560975</td>\n",
       "      <td>-0.060661</td>\n",
       "      <td>-0.698001</td>\n",
       "      <td>-0.249041</td>\n",
       "    </tr>\n",
       "    <tr>\n",
       "      <th>3</th>\n",
       "      <td>-1.566107</td>\n",
       "      <td>1.355574</td>\n",
       "      <td>0.059160</td>\n",
       "      <td>-1.604923</td>\n",
       "      <td>1.429429</td>\n",
       "      <td>0.645699</td>\n",
       "    </tr>\n",
       "    <tr>\n",
       "      <th>4</th>\n",
       "      <td>0.827377</td>\n",
       "      <td>-0.737695</td>\n",
       "      <td>-0.560975</td>\n",
       "      <td>-0.060661</td>\n",
       "      <td>-0.698001</td>\n",
       "      <td>0.645699</td>\n",
       "    </tr>\n",
       "  </tbody>\n",
       "</table>\n",
       "</div>"
      ],
      "text/plain": [
       "          0         1         2         3         4         5\n",
       "0  0.827377 -0.737695  0.059160 -0.060661 -1.407144 -1.143781\n",
       "1 -1.566107  1.355574  0.059160 -0.060661  1.429429  1.540439\n",
       "2  0.827377  1.355574 -0.560975 -0.060661 -0.698001 -0.249041\n",
       "3 -1.566107  1.355574  0.059160 -1.604923  1.429429  0.645699\n",
       "4  0.827377 -0.737695 -0.560975 -0.060661 -0.698001  0.645699"
      ]
     },
     "execution_count": 37,
     "metadata": {},
     "output_type": "execute_result"
    }
   ],
   "source": [
    "X.head()"
   ]
  },
  {
   "cell_type": "code",
   "execution_count": 38,
   "id": "c46077e2",
   "metadata": {
    "execution": {
     "iopub.execute_input": "2022-10-19T13:44:18.990916Z",
     "iopub.status.busy": "2022-10-19T13:44:18.990598Z",
     "iopub.status.idle": "2022-10-19T13:44:19.190483Z",
     "shell.execute_reply": "2022-10-19T13:44:19.189724Z"
    },
    "papermill": {
     "duration": 0.219434,
     "end_time": "2022-10-19T13:44:19.193333",
     "exception": false,
     "start_time": "2022-10-19T13:44:18.973899",
     "status": "completed"
    },
    "tags": []
   },
   "outputs": [
    {
     "name": "stderr",
     "output_type": "stream",
     "text": [
      "100%|██████████| 1/1 [00:00<00:00,  5.32it/s]\n"
     ]
    },
    {
     "data": {
      "text/plain": [
       "[[0.8922558922558923, 1]]"
      ]
     },
     "execution_count": 38,
     "metadata": {},
     "output_type": "execute_result"
    }
   ],
   "source": [
    "Rtree = []\n",
    "k=1\n",
    "for i in tqdm(range(1)):\n",
    "    #X_train, X_test, y_train, y_test = train_test_split(x, y, test_size=0.33, random_state=42)\n",
    "    model_random_tree = RandomForestClassifier(n_estimators=100, max_depth=12, random_state=1).fit(X,y)\n",
    "    y_pred = model_random_tree.predict(X_test)\n",
    "    Rtree.append([model_random_tree.score(X,y),k])\n",
    "    k = k + 1\n",
    "Rtree\n",
    "\n"
   ]
  },
  {
   "cell_type": "code",
   "execution_count": 39,
   "id": "c605f8e0",
   "metadata": {
    "execution": {
     "iopub.execute_input": "2022-10-19T13:44:19.225920Z",
     "iopub.status.busy": "2022-10-19T13:44:19.225596Z",
     "iopub.status.idle": "2022-10-19T13:44:19.984863Z",
     "shell.execute_reply": "2022-10-19T13:44:19.983125Z"
    },
    "papermill": {
     "duration": 0.779124,
     "end_time": "2022-10-19T13:44:19.988154",
     "exception": false,
     "start_time": "2022-10-19T13:44:19.209030",
     "status": "completed"
    },
    "tags": []
   },
   "outputs": [
    {
     "name": "stdout",
     "output_type": "stream",
     "text": [
      "[0.80446927 0.79213483 0.86516854 0.83146067 0.85955056]\n"
     ]
    },
    {
     "data": {
      "text/plain": [
       "0.8305567760969179"
      ]
     },
     "execution_count": 39,
     "metadata": {},
     "output_type": "execute_result"
    }
   ],
   "source": [
    "CV_Score = cross_val_score(model_random_tree, X, y, cv=5)\n",
    "print(CV_Score)\n",
    "CV_Score.mean()"
   ]
  },
  {
   "cell_type": "code",
   "execution_count": 40,
   "id": "0239df6d",
   "metadata": {
    "execution": {
     "iopub.execute_input": "2022-10-19T13:44:20.022806Z",
     "iopub.status.busy": "2022-10-19T13:44:20.022446Z",
     "iopub.status.idle": "2022-10-19T13:44:26.650811Z",
     "shell.execute_reply": "2022-10-19T13:44:26.650139Z"
    },
    "papermill": {
     "duration": 6.647834,
     "end_time": "2022-10-19T13:44:26.652850",
     "exception": false,
     "start_time": "2022-10-19T13:44:20.005016",
     "status": "completed"
    },
    "tags": []
   },
   "outputs": [],
   "source": [
    "import keras as kr\n",
    "from keras.models import Sequential\n",
    "from keras.layers import Dense, Dropout, Activation, Flatten"
   ]
  },
  {
   "cell_type": "code",
   "execution_count": 41,
   "id": "261ac776",
   "metadata": {
    "execution": {
     "iopub.execute_input": "2022-10-19T13:44:26.685055Z",
     "iopub.status.busy": "2022-10-19T13:44:26.683866Z",
     "iopub.status.idle": "2022-10-19T13:45:08.411616Z",
     "shell.execute_reply": "2022-10-19T13:45:08.410467Z"
    },
    "papermill": {
     "duration": 41.74634,
     "end_time": "2022-10-19T13:45:08.414100",
     "exception": false,
     "start_time": "2022-10-19T13:44:26.667760",
     "status": "completed"
    },
    "tags": []
   },
   "outputs": [
    {
     "name": "stderr",
     "output_type": "stream",
     "text": [
      "2022-10-19 13:44:26.718838: I tensorflow/core/common_runtime/process_util.cc:146] Creating new thread pool with default inter op setting: 2. Tune using inter_op_parallelism_threads for best performance.\n",
      "2022-10-19 13:44:26.850882: I tensorflow/compiler/mlir/mlir_graph_optimization_pass.cc:185] None of the MLIR Optimization Passes are enabled (registered 2)\n"
     ]
    },
    {
     "name": "stdout",
     "output_type": "stream",
     "text": [
      "Epoch 1/500\n",
      "19/19 [==============================] - 1s 17ms/step - loss: 0.3332 - accuracy: 0.3020 - val_loss: 0.3441 - val_accuracy: 0.2475\n",
      "Epoch 2/500\n",
      "19/19 [==============================] - 0s 8ms/step - loss: 0.3214 - accuracy: 0.3171 - val_loss: 0.3304 - val_accuracy: 0.2475\n",
      "Epoch 3/500\n",
      "19/19 [==============================] - 0s 6ms/step - loss: 0.3102 - accuracy: 0.3289 - val_loss: 0.3173 - val_accuracy: 0.2475\n",
      "Epoch 4/500\n",
      "19/19 [==============================] - 0s 6ms/step - loss: 0.2996 - accuracy: 0.3305 - val_loss: 0.3049 - val_accuracy: 0.2644\n",
      "Epoch 5/500\n",
      "19/19 [==============================] - 0s 4ms/step - loss: 0.2895 - accuracy: 0.3389 - val_loss: 0.2934 - val_accuracy: 0.2814\n",
      "Epoch 6/500\n",
      "19/19 [==============================] - 0s 4ms/step - loss: 0.2803 - accuracy: 0.3523 - val_loss: 0.2828 - val_accuracy: 0.3051\n",
      "Epoch 7/500\n",
      "19/19 [==============================] - 0s 4ms/step - loss: 0.2718 - accuracy: 0.3943 - val_loss: 0.2729 - val_accuracy: 0.4203\n",
      "Epoch 8/500\n",
      "19/19 [==============================] - 0s 4ms/step - loss: 0.2640 - accuracy: 0.4346 - val_loss: 0.2640 - val_accuracy: 0.4644\n",
      "Epoch 9/500\n",
      "19/19 [==============================] - 0s 4ms/step - loss: 0.2570 - accuracy: 0.4648 - val_loss: 0.2558 - val_accuracy: 0.5458\n",
      "Epoch 10/500\n",
      "19/19 [==============================] - 0s 3ms/step - loss: 0.2505 - accuracy: 0.5789 - val_loss: 0.2485 - val_accuracy: 0.6271\n",
      "Epoch 11/500\n",
      "19/19 [==============================] - 0s 3ms/step - loss: 0.2446 - accuracy: 0.5973 - val_loss: 0.2418 - val_accuracy: 0.6542\n",
      "Epoch 12/500\n",
      "19/19 [==============================] - 0s 4ms/step - loss: 0.2393 - accuracy: 0.6477 - val_loss: 0.2357 - val_accuracy: 0.6542\n",
      "Epoch 13/500\n",
      "19/19 [==============================] - 0s 3ms/step - loss: 0.2344 - accuracy: 0.6544 - val_loss: 0.2300 - val_accuracy: 0.6542\n",
      "Epoch 14/500\n",
      "19/19 [==============================] - 0s 3ms/step - loss: 0.2298 - accuracy: 0.6695 - val_loss: 0.2247 - val_accuracy: 0.6847\n",
      "Epoch 15/500\n",
      "19/19 [==============================] - 0s 3ms/step - loss: 0.2255 - accuracy: 0.6812 - val_loss: 0.2197 - val_accuracy: 0.6847\n",
      "Epoch 16/500\n",
      "19/19 [==============================] - 0s 4ms/step - loss: 0.2216 - accuracy: 0.6846 - val_loss: 0.2153 - val_accuracy: 0.6847\n",
      "Epoch 17/500\n",
      "19/19 [==============================] - 0s 3ms/step - loss: 0.2179 - accuracy: 0.6862 - val_loss: 0.2111 - val_accuracy: 0.6847\n",
      "Epoch 18/500\n",
      "19/19 [==============================] - 0s 3ms/step - loss: 0.2146 - accuracy: 0.6946 - val_loss: 0.2073 - val_accuracy: 0.6915\n",
      "Epoch 19/500\n",
      "19/19 [==============================] - 0s 4ms/step - loss: 0.2115 - accuracy: 0.7064 - val_loss: 0.2038 - val_accuracy: 0.6915\n",
      "Epoch 20/500\n",
      "19/19 [==============================] - 0s 3ms/step - loss: 0.2085 - accuracy: 0.7064 - val_loss: 0.2005 - val_accuracy: 0.7051\n",
      "Epoch 21/500\n",
      "19/19 [==============================] - 0s 4ms/step - loss: 0.2058 - accuracy: 0.7114 - val_loss: 0.1973 - val_accuracy: 0.7085\n",
      "Epoch 22/500\n",
      "19/19 [==============================] - 0s 4ms/step - loss: 0.2032 - accuracy: 0.7114 - val_loss: 0.1944 - val_accuracy: 0.7119\n",
      "Epoch 23/500\n",
      "19/19 [==============================] - 0s 4ms/step - loss: 0.2008 - accuracy: 0.7148 - val_loss: 0.1917 - val_accuracy: 0.7119\n",
      "Epoch 24/500\n",
      "19/19 [==============================] - 0s 4ms/step - loss: 0.1985 - accuracy: 0.7232 - val_loss: 0.1892 - val_accuracy: 0.7186\n",
      "Epoch 25/500\n",
      "19/19 [==============================] - 0s 3ms/step - loss: 0.1964 - accuracy: 0.7248 - val_loss: 0.1868 - val_accuracy: 0.7288\n",
      "Epoch 26/500\n",
      "19/19 [==============================] - 0s 4ms/step - loss: 0.1943 - accuracy: 0.7349 - val_loss: 0.1845 - val_accuracy: 0.7254\n",
      "Epoch 27/500\n",
      "19/19 [==============================] - 0s 4ms/step - loss: 0.1923 - accuracy: 0.7349 - val_loss: 0.1823 - val_accuracy: 0.7288\n",
      "Epoch 28/500\n",
      "19/19 [==============================] - 0s 4ms/step - loss: 0.1904 - accuracy: 0.7450 - val_loss: 0.1802 - val_accuracy: 0.7288\n",
      "Epoch 29/500\n",
      "19/19 [==============================] - 0s 4ms/step - loss: 0.1886 - accuracy: 0.7450 - val_loss: 0.1782 - val_accuracy: 0.7424\n",
      "Epoch 30/500\n",
      "19/19 [==============================] - 0s 4ms/step - loss: 0.1869 - accuracy: 0.7701 - val_loss: 0.1763 - val_accuracy: 0.7525\n",
      "Epoch 31/500\n",
      "19/19 [==============================] - 0s 4ms/step - loss: 0.1852 - accuracy: 0.7701 - val_loss: 0.1744 - val_accuracy: 0.7627\n",
      "Epoch 32/500\n",
      "19/19 [==============================] - 0s 4ms/step - loss: 0.1835 - accuracy: 0.7903 - val_loss: 0.1726 - val_accuracy: 0.8000\n",
      "Epoch 33/500\n",
      "19/19 [==============================] - 0s 4ms/step - loss: 0.1820 - accuracy: 0.8054 - val_loss: 0.1709 - val_accuracy: 0.8000\n",
      "Epoch 34/500\n",
      "19/19 [==============================] - 0s 4ms/step - loss: 0.1805 - accuracy: 0.8070 - val_loss: 0.1692 - val_accuracy: 0.8068\n",
      "Epoch 35/500\n",
      "19/19 [==============================] - 0s 4ms/step - loss: 0.1790 - accuracy: 0.8104 - val_loss: 0.1677 - val_accuracy: 0.8068\n",
      "Epoch 36/500\n",
      "19/19 [==============================] - 0s 4ms/step - loss: 0.1776 - accuracy: 0.8138 - val_loss: 0.1661 - val_accuracy: 0.8136\n",
      "Epoch 37/500\n",
      "19/19 [==============================] - 0s 4ms/step - loss: 0.1762 - accuracy: 0.8171 - val_loss: 0.1646 - val_accuracy: 0.8169\n",
      "Epoch 38/500\n",
      "19/19 [==============================] - 0s 4ms/step - loss: 0.1749 - accuracy: 0.8221 - val_loss: 0.1632 - val_accuracy: 0.8169\n",
      "Epoch 39/500\n",
      "19/19 [==============================] - 0s 3ms/step - loss: 0.1736 - accuracy: 0.8272 - val_loss: 0.1618 - val_accuracy: 0.8169\n",
      "Epoch 40/500\n",
      "19/19 [==============================] - 0s 4ms/step - loss: 0.1724 - accuracy: 0.8272 - val_loss: 0.1604 - val_accuracy: 0.8203\n",
      "Epoch 41/500\n",
      "19/19 [==============================] - 0s 4ms/step - loss: 0.1711 - accuracy: 0.8322 - val_loss: 0.1591 - val_accuracy: 0.8237\n",
      "Epoch 42/500\n",
      "19/19 [==============================] - 0s 3ms/step - loss: 0.1700 - accuracy: 0.8322 - val_loss: 0.1579 - val_accuracy: 0.8237\n",
      "Epoch 43/500\n",
      "19/19 [==============================] - 0s 4ms/step - loss: 0.1688 - accuracy: 0.8339 - val_loss: 0.1566 - val_accuracy: 0.8237\n",
      "Epoch 44/500\n",
      "19/19 [==============================] - 0s 3ms/step - loss: 0.1677 - accuracy: 0.8339 - val_loss: 0.1554 - val_accuracy: 0.8237\n",
      "Epoch 45/500\n",
      "19/19 [==============================] - 0s 4ms/step - loss: 0.1666 - accuracy: 0.8339 - val_loss: 0.1543 - val_accuracy: 0.8237\n",
      "Epoch 46/500\n",
      "19/19 [==============================] - 0s 4ms/step - loss: 0.1656 - accuracy: 0.8356 - val_loss: 0.1532 - val_accuracy: 0.8271\n",
      "Epoch 47/500\n",
      "19/19 [==============================] - 0s 4ms/step - loss: 0.1646 - accuracy: 0.8356 - val_loss: 0.1521 - val_accuracy: 0.8271\n",
      "Epoch 48/500\n",
      "19/19 [==============================] - 0s 3ms/step - loss: 0.1636 - accuracy: 0.8356 - val_loss: 0.1511 - val_accuracy: 0.8305\n",
      "Epoch 49/500\n",
      "19/19 [==============================] - 0s 3ms/step - loss: 0.1626 - accuracy: 0.8356 - val_loss: 0.1500 - val_accuracy: 0.8305\n",
      "Epoch 50/500\n",
      "19/19 [==============================] - 0s 4ms/step - loss: 0.1617 - accuracy: 0.8372 - val_loss: 0.1491 - val_accuracy: 0.8305\n",
      "Epoch 51/500\n",
      "19/19 [==============================] - 0s 4ms/step - loss: 0.1608 - accuracy: 0.8372 - val_loss: 0.1481 - val_accuracy: 0.8305\n",
      "Epoch 52/500\n",
      "19/19 [==============================] - 0s 4ms/step - loss: 0.1599 - accuracy: 0.8356 - val_loss: 0.1472 - val_accuracy: 0.8305\n",
      "Epoch 53/500\n",
      "19/19 [==============================] - 0s 4ms/step - loss: 0.1590 - accuracy: 0.8356 - val_loss: 0.1463 - val_accuracy: 0.8305\n",
      "Epoch 54/500\n",
      "19/19 [==============================] - 0s 4ms/step - loss: 0.1582 - accuracy: 0.8372 - val_loss: 0.1454 - val_accuracy: 0.8339\n",
      "Epoch 55/500\n",
      "19/19 [==============================] - 0s 4ms/step - loss: 0.1573 - accuracy: 0.8372 - val_loss: 0.1445 - val_accuracy: 0.8339\n",
      "Epoch 56/500\n",
      "19/19 [==============================] - 0s 4ms/step - loss: 0.1565 - accuracy: 0.8372 - val_loss: 0.1436 - val_accuracy: 0.8339\n",
      "Epoch 57/500\n",
      "19/19 [==============================] - 0s 4ms/step - loss: 0.1558 - accuracy: 0.8372 - val_loss: 0.1428 - val_accuracy: 0.8339\n",
      "Epoch 58/500\n",
      "19/19 [==============================] - 0s 4ms/step - loss: 0.1550 - accuracy: 0.8372 - val_loss: 0.1420 - val_accuracy: 0.8339\n",
      "Epoch 59/500\n",
      "19/19 [==============================] - 0s 4ms/step - loss: 0.1543 - accuracy: 0.8356 - val_loss: 0.1413 - val_accuracy: 0.8339\n",
      "Epoch 60/500\n",
      "19/19 [==============================] - 0s 4ms/step - loss: 0.1536 - accuracy: 0.8356 - val_loss: 0.1406 - val_accuracy: 0.8339\n",
      "Epoch 61/500\n",
      "19/19 [==============================] - 0s 4ms/step - loss: 0.1529 - accuracy: 0.8372 - val_loss: 0.1398 - val_accuracy: 0.8305\n",
      "Epoch 62/500\n",
      "19/19 [==============================] - 0s 4ms/step - loss: 0.1522 - accuracy: 0.8389 - val_loss: 0.1391 - val_accuracy: 0.8305\n",
      "Epoch 63/500\n",
      "19/19 [==============================] - 0s 4ms/step - loss: 0.1516 - accuracy: 0.8389 - val_loss: 0.1385 - val_accuracy: 0.8305\n",
      "Epoch 64/500\n",
      "19/19 [==============================] - 0s 4ms/step - loss: 0.1509 - accuracy: 0.8389 - val_loss: 0.1378 - val_accuracy: 0.8305\n",
      "Epoch 65/500\n",
      "19/19 [==============================] - 0s 4ms/step - loss: 0.1503 - accuracy: 0.8389 - val_loss: 0.1372 - val_accuracy: 0.8305\n",
      "Epoch 66/500\n",
      "19/19 [==============================] - 0s 4ms/step - loss: 0.1497 - accuracy: 0.8389 - val_loss: 0.1366 - val_accuracy: 0.8305\n",
      "Epoch 67/500\n",
      "19/19 [==============================] - 0s 4ms/step - loss: 0.1492 - accuracy: 0.8389 - val_loss: 0.1360 - val_accuracy: 0.8305\n",
      "Epoch 68/500\n",
      "19/19 [==============================] - 0s 4ms/step - loss: 0.1486 - accuracy: 0.8389 - val_loss: 0.1354 - val_accuracy: 0.8305\n",
      "Epoch 69/500\n",
      "19/19 [==============================] - 0s 4ms/step - loss: 0.1481 - accuracy: 0.8389 - val_loss: 0.1348 - val_accuracy: 0.8305\n",
      "Epoch 70/500\n",
      "19/19 [==============================] - 0s 4ms/step - loss: 0.1475 - accuracy: 0.8389 - val_loss: 0.1342 - val_accuracy: 0.8305\n",
      "Epoch 71/500\n",
      "19/19 [==============================] - 0s 4ms/step - loss: 0.1470 - accuracy: 0.8389 - val_loss: 0.1337 - val_accuracy: 0.8305\n",
      "Epoch 72/500\n",
      "19/19 [==============================] - 0s 4ms/step - loss: 0.1465 - accuracy: 0.8389 - val_loss: 0.1332 - val_accuracy: 0.8305\n",
      "Epoch 73/500\n",
      "19/19 [==============================] - 0s 4ms/step - loss: 0.1460 - accuracy: 0.8389 - val_loss: 0.1327 - val_accuracy: 0.8305\n",
      "Epoch 74/500\n",
      "19/19 [==============================] - 0s 4ms/step - loss: 0.1456 - accuracy: 0.8389 - val_loss: 0.1322 - val_accuracy: 0.8305\n",
      "Epoch 75/500\n",
      "19/19 [==============================] - 0s 4ms/step - loss: 0.1451 - accuracy: 0.8389 - val_loss: 0.1317 - val_accuracy: 0.8305\n",
      "Epoch 76/500\n",
      "19/19 [==============================] - 0s 4ms/step - loss: 0.1447 - accuracy: 0.8372 - val_loss: 0.1312 - val_accuracy: 0.8305\n",
      "Epoch 77/500\n",
      "19/19 [==============================] - 0s 4ms/step - loss: 0.1442 - accuracy: 0.8389 - val_loss: 0.1308 - val_accuracy: 0.8305\n",
      "Epoch 78/500\n",
      "19/19 [==============================] - 0s 4ms/step - loss: 0.1438 - accuracy: 0.8372 - val_loss: 0.1303 - val_accuracy: 0.8305\n",
      "Epoch 79/500\n",
      "19/19 [==============================] - 0s 4ms/step - loss: 0.1434 - accuracy: 0.8389 - val_loss: 0.1299 - val_accuracy: 0.8373\n",
      "Epoch 80/500\n",
      "19/19 [==============================] - 0s 4ms/step - loss: 0.1430 - accuracy: 0.8440 - val_loss: 0.1295 - val_accuracy: 0.8373\n",
      "Epoch 81/500\n",
      "19/19 [==============================] - 0s 4ms/step - loss: 0.1426 - accuracy: 0.8389 - val_loss: 0.1291 - val_accuracy: 0.8339\n",
      "Epoch 82/500\n",
      "19/19 [==============================] - 0s 4ms/step - loss: 0.1422 - accuracy: 0.8440 - val_loss: 0.1287 - val_accuracy: 0.8339\n",
      "Epoch 83/500\n",
      "19/19 [==============================] - 0s 4ms/step - loss: 0.1418 - accuracy: 0.8440 - val_loss: 0.1283 - val_accuracy: 0.8339\n",
      "Epoch 84/500\n",
      "19/19 [==============================] - 0s 4ms/step - loss: 0.1415 - accuracy: 0.8440 - val_loss: 0.1279 - val_accuracy: 0.8339\n",
      "Epoch 85/500\n",
      "19/19 [==============================] - 0s 4ms/step - loss: 0.1411 - accuracy: 0.8440 - val_loss: 0.1276 - val_accuracy: 0.8339\n",
      "Epoch 86/500\n",
      "19/19 [==============================] - 0s 4ms/step - loss: 0.1408 - accuracy: 0.8423 - val_loss: 0.1273 - val_accuracy: 0.8339\n",
      "Epoch 87/500\n",
      "19/19 [==============================] - 0s 4ms/step - loss: 0.1405 - accuracy: 0.8423 - val_loss: 0.1269 - val_accuracy: 0.8339\n",
      "Epoch 88/500\n",
      "19/19 [==============================] - 0s 4ms/step - loss: 0.1401 - accuracy: 0.8423 - val_loss: 0.1266 - val_accuracy: 0.8339\n",
      "Epoch 89/500\n",
      "19/19 [==============================] - 0s 4ms/step - loss: 0.1398 - accuracy: 0.8423 - val_loss: 0.1263 - val_accuracy: 0.8339\n",
      "Epoch 90/500\n",
      "19/19 [==============================] - 0s 3ms/step - loss: 0.1395 - accuracy: 0.8423 - val_loss: 0.1259 - val_accuracy: 0.8339\n",
      "Epoch 91/500\n",
      "19/19 [==============================] - 0s 4ms/step - loss: 0.1392 - accuracy: 0.8423 - val_loss: 0.1256 - val_accuracy: 0.8339\n",
      "Epoch 92/500\n",
      "19/19 [==============================] - 0s 4ms/step - loss: 0.1389 - accuracy: 0.8423 - val_loss: 0.1253 - val_accuracy: 0.8339\n",
      "Epoch 93/500\n",
      "19/19 [==============================] - 0s 4ms/step - loss: 0.1386 - accuracy: 0.8423 - val_loss: 0.1250 - val_accuracy: 0.8339\n",
      "Epoch 94/500\n",
      "19/19 [==============================] - 0s 6ms/step - loss: 0.1383 - accuracy: 0.8423 - val_loss: 0.1248 - val_accuracy: 0.8339\n",
      "Epoch 95/500\n",
      "19/19 [==============================] - 0s 4ms/step - loss: 0.1381 - accuracy: 0.8423 - val_loss: 0.1245 - val_accuracy: 0.8373\n",
      "Epoch 96/500\n",
      "19/19 [==============================] - 0s 4ms/step - loss: 0.1378 - accuracy: 0.8423 - val_loss: 0.1242 - val_accuracy: 0.8373\n",
      "Epoch 97/500\n",
      "19/19 [==============================] - 0s 4ms/step - loss: 0.1375 - accuracy: 0.8440 - val_loss: 0.1239 - val_accuracy: 0.8373\n",
      "Epoch 98/500\n",
      "19/19 [==============================] - 0s 4ms/step - loss: 0.1373 - accuracy: 0.8440 - val_loss: 0.1237 - val_accuracy: 0.8373\n",
      "Epoch 99/500\n",
      "19/19 [==============================] - 0s 4ms/step - loss: 0.1370 - accuracy: 0.8440 - val_loss: 0.1234 - val_accuracy: 0.8373\n",
      "Epoch 100/500\n",
      "19/19 [==============================] - 0s 4ms/step - loss: 0.1368 - accuracy: 0.8423 - val_loss: 0.1232 - val_accuracy: 0.8373\n",
      "Epoch 101/500\n",
      "19/19 [==============================] - 0s 4ms/step - loss: 0.1365 - accuracy: 0.8440 - val_loss: 0.1229 - val_accuracy: 0.8373\n",
      "Epoch 102/500\n",
      "19/19 [==============================] - 0s 4ms/step - loss: 0.1363 - accuracy: 0.8440 - val_loss: 0.1227 - val_accuracy: 0.8373\n",
      "Epoch 103/500\n",
      "19/19 [==============================] - 0s 4ms/step - loss: 0.1361 - accuracy: 0.8440 - val_loss: 0.1225 - val_accuracy: 0.8373\n",
      "Epoch 104/500\n",
      "19/19 [==============================] - 0s 4ms/step - loss: 0.1359 - accuracy: 0.8423 - val_loss: 0.1223 - val_accuracy: 0.8373\n",
      "Epoch 105/500\n",
      "19/19 [==============================] - 0s 4ms/step - loss: 0.1356 - accuracy: 0.8440 - val_loss: 0.1221 - val_accuracy: 0.8373\n",
      "Epoch 106/500\n",
      "19/19 [==============================] - 0s 5ms/step - loss: 0.1354 - accuracy: 0.8423 - val_loss: 0.1218 - val_accuracy: 0.8373\n",
      "Epoch 107/500\n",
      "19/19 [==============================] - 0s 4ms/step - loss: 0.1352 - accuracy: 0.8440 - val_loss: 0.1216 - val_accuracy: 0.8373\n",
      "Epoch 108/500\n",
      "19/19 [==============================] - 0s 4ms/step - loss: 0.1350 - accuracy: 0.8440 - val_loss: 0.1214 - val_accuracy: 0.8373\n",
      "Epoch 109/500\n",
      "19/19 [==============================] - 0s 4ms/step - loss: 0.1348 - accuracy: 0.8440 - val_loss: 0.1212 - val_accuracy: 0.8407\n",
      "Epoch 110/500\n",
      "19/19 [==============================] - 0s 4ms/step - loss: 0.1346 - accuracy: 0.8440 - val_loss: 0.1210 - val_accuracy: 0.8407\n",
      "Epoch 111/500\n",
      "19/19 [==============================] - 0s 4ms/step - loss: 0.1344 - accuracy: 0.8440 - val_loss: 0.1208 - val_accuracy: 0.8407\n",
      "Epoch 112/500\n",
      "19/19 [==============================] - 0s 3ms/step - loss: 0.1342 - accuracy: 0.8440 - val_loss: 0.1206 - val_accuracy: 0.8407\n",
      "Epoch 113/500\n",
      "19/19 [==============================] - 0s 4ms/step - loss: 0.1340 - accuracy: 0.8440 - val_loss: 0.1204 - val_accuracy: 0.8407\n",
      "Epoch 114/500\n",
      "19/19 [==============================] - 0s 4ms/step - loss: 0.1338 - accuracy: 0.8440 - val_loss: 0.1202 - val_accuracy: 0.8407\n",
      "Epoch 115/500\n",
      "19/19 [==============================] - 0s 4ms/step - loss: 0.1337 - accuracy: 0.8440 - val_loss: 0.1201 - val_accuracy: 0.8407\n",
      "Epoch 116/500\n",
      "19/19 [==============================] - 0s 4ms/step - loss: 0.1335 - accuracy: 0.8440 - val_loss: 0.1199 - val_accuracy: 0.8407\n",
      "Epoch 117/500\n",
      "19/19 [==============================] - 0s 4ms/step - loss: 0.1333 - accuracy: 0.8440 - val_loss: 0.1197 - val_accuracy: 0.8407\n",
      "Epoch 118/500\n",
      "19/19 [==============================] - 0s 4ms/step - loss: 0.1331 - accuracy: 0.8440 - val_loss: 0.1196 - val_accuracy: 0.8407\n",
      "Epoch 119/500\n",
      "19/19 [==============================] - 0s 4ms/step - loss: 0.1330 - accuracy: 0.8440 - val_loss: 0.1194 - val_accuracy: 0.8407\n",
      "Epoch 120/500\n",
      "19/19 [==============================] - 0s 4ms/step - loss: 0.1328 - accuracy: 0.8440 - val_loss: 0.1192 - val_accuracy: 0.8407\n",
      "Epoch 121/500\n",
      "19/19 [==============================] - 0s 4ms/step - loss: 0.1327 - accuracy: 0.8440 - val_loss: 0.1191 - val_accuracy: 0.8407\n",
      "Epoch 122/500\n",
      "19/19 [==============================] - 0s 4ms/step - loss: 0.1325 - accuracy: 0.8440 - val_loss: 0.1189 - val_accuracy: 0.8407\n",
      "Epoch 123/500\n",
      "19/19 [==============================] - 0s 4ms/step - loss: 0.1324 - accuracy: 0.8440 - val_loss: 0.1187 - val_accuracy: 0.8407\n",
      "Epoch 124/500\n",
      "19/19 [==============================] - 0s 4ms/step - loss: 0.1322 - accuracy: 0.8440 - val_loss: 0.1186 - val_accuracy: 0.8407\n",
      "Epoch 125/500\n",
      "19/19 [==============================] - 0s 4ms/step - loss: 0.1320 - accuracy: 0.8440 - val_loss: 0.1184 - val_accuracy: 0.8407\n",
      "Epoch 126/500\n",
      "19/19 [==============================] - 0s 4ms/step - loss: 0.1319 - accuracy: 0.8423 - val_loss: 0.1183 - val_accuracy: 0.8407\n",
      "Epoch 127/500\n",
      "19/19 [==============================] - 0s 4ms/step - loss: 0.1318 - accuracy: 0.8440 - val_loss: 0.1182 - val_accuracy: 0.8407\n",
      "Epoch 128/500\n",
      "19/19 [==============================] - 0s 4ms/step - loss: 0.1316 - accuracy: 0.8423 - val_loss: 0.1180 - val_accuracy: 0.8407\n",
      "Epoch 129/500\n",
      "19/19 [==============================] - 0s 4ms/step - loss: 0.1315 - accuracy: 0.8423 - val_loss: 0.1179 - val_accuracy: 0.8407\n",
      "Epoch 130/500\n",
      "19/19 [==============================] - 0s 4ms/step - loss: 0.1314 - accuracy: 0.8423 - val_loss: 0.1177 - val_accuracy: 0.8407\n",
      "Epoch 131/500\n",
      "19/19 [==============================] - 0s 4ms/step - loss: 0.1312 - accuracy: 0.8423 - val_loss: 0.1176 - val_accuracy: 0.8407\n",
      "Epoch 132/500\n",
      "19/19 [==============================] - 0s 4ms/step - loss: 0.1311 - accuracy: 0.8423 - val_loss: 0.1175 - val_accuracy: 0.8407\n",
      "Epoch 133/500\n",
      "19/19 [==============================] - 0s 5ms/step - loss: 0.1310 - accuracy: 0.8423 - val_loss: 0.1173 - val_accuracy: 0.8407\n",
      "Epoch 134/500\n",
      "19/19 [==============================] - 0s 4ms/step - loss: 0.1308 - accuracy: 0.8423 - val_loss: 0.1172 - val_accuracy: 0.8407\n",
      "Epoch 135/500\n",
      "19/19 [==============================] - 0s 4ms/step - loss: 0.1307 - accuracy: 0.8423 - val_loss: 0.1171 - val_accuracy: 0.8407\n",
      "Epoch 136/500\n",
      "19/19 [==============================] - 0s 4ms/step - loss: 0.1306 - accuracy: 0.8406 - val_loss: 0.1170 - val_accuracy: 0.8407\n",
      "Epoch 137/500\n",
      "19/19 [==============================] - 0s 4ms/step - loss: 0.1305 - accuracy: 0.8423 - val_loss: 0.1168 - val_accuracy: 0.8407\n",
      "Epoch 138/500\n",
      "19/19 [==============================] - 0s 4ms/step - loss: 0.1304 - accuracy: 0.8423 - val_loss: 0.1167 - val_accuracy: 0.8407\n",
      "Epoch 139/500\n",
      "19/19 [==============================] - 0s 4ms/step - loss: 0.1302 - accuracy: 0.8423 - val_loss: 0.1166 - val_accuracy: 0.8407\n",
      "Epoch 140/500\n",
      "19/19 [==============================] - 0s 4ms/step - loss: 0.1301 - accuracy: 0.8423 - val_loss: 0.1165 - val_accuracy: 0.8407\n",
      "Epoch 141/500\n",
      "19/19 [==============================] - 0s 4ms/step - loss: 0.1300 - accuracy: 0.8423 - val_loss: 0.1164 - val_accuracy: 0.8407\n",
      "Epoch 142/500\n",
      "19/19 [==============================] - 0s 4ms/step - loss: 0.1299 - accuracy: 0.8423 - val_loss: 0.1162 - val_accuracy: 0.8407\n",
      "Epoch 143/500\n",
      "19/19 [==============================] - 0s 4ms/step - loss: 0.1298 - accuracy: 0.8423 - val_loss: 0.1161 - val_accuracy: 0.8407\n",
      "Epoch 144/500\n",
      "19/19 [==============================] - 0s 4ms/step - loss: 0.1297 - accuracy: 0.8423 - val_loss: 0.1160 - val_accuracy: 0.8407\n",
      "Epoch 145/500\n",
      "19/19 [==============================] - 0s 4ms/step - loss: 0.1296 - accuracy: 0.8423 - val_loss: 0.1160 - val_accuracy: 0.8407\n",
      "Epoch 146/500\n",
      "19/19 [==============================] - 0s 4ms/step - loss: 0.1295 - accuracy: 0.8423 - val_loss: 0.1159 - val_accuracy: 0.8407\n",
      "Epoch 147/500\n",
      "19/19 [==============================] - 0s 4ms/step - loss: 0.1294 - accuracy: 0.8406 - val_loss: 0.1158 - val_accuracy: 0.8407\n",
      "Epoch 148/500\n",
      "19/19 [==============================] - 0s 4ms/step - loss: 0.1293 - accuracy: 0.8423 - val_loss: 0.1157 - val_accuracy: 0.8407\n",
      "Epoch 149/500\n",
      "19/19 [==============================] - 0s 4ms/step - loss: 0.1292 - accuracy: 0.8423 - val_loss: 0.1156 - val_accuracy: 0.8407\n",
      "Epoch 150/500\n",
      "19/19 [==============================] - 0s 4ms/step - loss: 0.1291 - accuracy: 0.8423 - val_loss: 0.1155 - val_accuracy: 0.8407\n",
      "Epoch 151/500\n",
      "19/19 [==============================] - 0s 4ms/step - loss: 0.1290 - accuracy: 0.8423 - val_loss: 0.1154 - val_accuracy: 0.8407\n",
      "Epoch 152/500\n",
      "19/19 [==============================] - 0s 3ms/step - loss: 0.1289 - accuracy: 0.8423 - val_loss: 0.1153 - val_accuracy: 0.8407\n",
      "Epoch 153/500\n",
      "19/19 [==============================] - 0s 4ms/step - loss: 0.1288 - accuracy: 0.8423 - val_loss: 0.1152 - val_accuracy: 0.8373\n",
      "Epoch 154/500\n",
      "19/19 [==============================] - 0s 4ms/step - loss: 0.1287 - accuracy: 0.8406 - val_loss: 0.1151 - val_accuracy: 0.8373\n",
      "Epoch 155/500\n",
      "19/19 [==============================] - 0s 4ms/step - loss: 0.1286 - accuracy: 0.8406 - val_loss: 0.1150 - val_accuracy: 0.8373\n",
      "Epoch 156/500\n",
      "19/19 [==============================] - 0s 4ms/step - loss: 0.1286 - accuracy: 0.8406 - val_loss: 0.1149 - val_accuracy: 0.8339\n",
      "Epoch 157/500\n",
      "19/19 [==============================] - 0s 4ms/step - loss: 0.1284 - accuracy: 0.8406 - val_loss: 0.1149 - val_accuracy: 0.8339\n",
      "Epoch 158/500\n",
      "19/19 [==============================] - 0s 4ms/step - loss: 0.1284 - accuracy: 0.8423 - val_loss: 0.1148 - val_accuracy: 0.8339\n",
      "Epoch 159/500\n",
      "19/19 [==============================] - 0s 4ms/step - loss: 0.1283 - accuracy: 0.8406 - val_loss: 0.1147 - val_accuracy: 0.8339\n",
      "Epoch 160/500\n",
      "19/19 [==============================] - 0s 4ms/step - loss: 0.1282 - accuracy: 0.8406 - val_loss: 0.1146 - val_accuracy: 0.8339\n",
      "Epoch 161/500\n",
      "19/19 [==============================] - 0s 4ms/step - loss: 0.1281 - accuracy: 0.8406 - val_loss: 0.1145 - val_accuracy: 0.8339\n",
      "Epoch 162/500\n",
      "19/19 [==============================] - 0s 4ms/step - loss: 0.1280 - accuracy: 0.8406 - val_loss: 0.1144 - val_accuracy: 0.8339\n",
      "Epoch 163/500\n",
      "19/19 [==============================] - 0s 4ms/step - loss: 0.1280 - accuracy: 0.8406 - val_loss: 0.1143 - val_accuracy: 0.8339\n",
      "Epoch 164/500\n",
      "19/19 [==============================] - 0s 4ms/step - loss: 0.1279 - accuracy: 0.8406 - val_loss: 0.1143 - val_accuracy: 0.8339\n",
      "Epoch 165/500\n",
      "19/19 [==============================] - 0s 4ms/step - loss: 0.1278 - accuracy: 0.8406 - val_loss: 0.1142 - val_accuracy: 0.8339\n",
      "Epoch 166/500\n",
      "19/19 [==============================] - 0s 4ms/step - loss: 0.1277 - accuracy: 0.8406 - val_loss: 0.1141 - val_accuracy: 0.8339\n",
      "Epoch 167/500\n",
      "19/19 [==============================] - 0s 4ms/step - loss: 0.1276 - accuracy: 0.8406 - val_loss: 0.1141 - val_accuracy: 0.8339\n",
      "Epoch 168/500\n",
      "19/19 [==============================] - 0s 4ms/step - loss: 0.1276 - accuracy: 0.8406 - val_loss: 0.1140 - val_accuracy: 0.8339\n",
      "Epoch 169/500\n",
      "19/19 [==============================] - 0s 4ms/step - loss: 0.1275 - accuracy: 0.8406 - val_loss: 0.1139 - val_accuracy: 0.8339\n",
      "Epoch 170/500\n",
      "19/19 [==============================] - 0s 4ms/step - loss: 0.1274 - accuracy: 0.8423 - val_loss: 0.1138 - val_accuracy: 0.8339\n",
      "Epoch 171/500\n",
      "19/19 [==============================] - 0s 4ms/step - loss: 0.1273 - accuracy: 0.8423 - val_loss: 0.1138 - val_accuracy: 0.8339\n",
      "Epoch 172/500\n",
      "19/19 [==============================] - 0s 3ms/step - loss: 0.1273 - accuracy: 0.8423 - val_loss: 0.1137 - val_accuracy: 0.8339\n",
      "Epoch 173/500\n",
      "19/19 [==============================] - 0s 3ms/step - loss: 0.1272 - accuracy: 0.8423 - val_loss: 0.1137 - val_accuracy: 0.8339\n",
      "Epoch 174/500\n",
      "19/19 [==============================] - 0s 4ms/step - loss: 0.1271 - accuracy: 0.8423 - val_loss: 0.1136 - val_accuracy: 0.8339\n",
      "Epoch 175/500\n",
      "19/19 [==============================] - 0s 4ms/step - loss: 0.1271 - accuracy: 0.8406 - val_loss: 0.1136 - val_accuracy: 0.8339\n",
      "Epoch 176/500\n",
      "19/19 [==============================] - 0s 4ms/step - loss: 0.1270 - accuracy: 0.8423 - val_loss: 0.1135 - val_accuracy: 0.8339\n",
      "Epoch 177/500\n",
      "19/19 [==============================] - 0s 4ms/step - loss: 0.1269 - accuracy: 0.8423 - val_loss: 0.1134 - val_accuracy: 0.8339\n",
      "Epoch 178/500\n",
      "19/19 [==============================] - 0s 4ms/step - loss: 0.1269 - accuracy: 0.8423 - val_loss: 0.1134 - val_accuracy: 0.8339\n",
      "Epoch 179/500\n",
      "19/19 [==============================] - 0s 4ms/step - loss: 0.1268 - accuracy: 0.8423 - val_loss: 0.1133 - val_accuracy: 0.8339\n",
      "Epoch 180/500\n",
      "19/19 [==============================] - 0s 4ms/step - loss: 0.1267 - accuracy: 0.8423 - val_loss: 0.1132 - val_accuracy: 0.8339\n",
      "Epoch 181/500\n",
      "19/19 [==============================] - 0s 4ms/step - loss: 0.1266 - accuracy: 0.8423 - val_loss: 0.1132 - val_accuracy: 0.8339\n",
      "Epoch 182/500\n",
      "19/19 [==============================] - 0s 4ms/step - loss: 0.1266 - accuracy: 0.8423 - val_loss: 0.1131 - val_accuracy: 0.8339\n",
      "Epoch 183/500\n",
      "19/19 [==============================] - 0s 4ms/step - loss: 0.1265 - accuracy: 0.8423 - val_loss: 0.1131 - val_accuracy: 0.8339\n",
      "Epoch 184/500\n",
      "19/19 [==============================] - 0s 4ms/step - loss: 0.1265 - accuracy: 0.8423 - val_loss: 0.1130 - val_accuracy: 0.8339\n",
      "Epoch 185/500\n",
      "19/19 [==============================] - 0s 4ms/step - loss: 0.1264 - accuracy: 0.8423 - val_loss: 0.1130 - val_accuracy: 0.8339\n",
      "Epoch 186/500\n",
      "19/19 [==============================] - 0s 4ms/step - loss: 0.1263 - accuracy: 0.8423 - val_loss: 0.1129 - val_accuracy: 0.8339\n",
      "Epoch 187/500\n",
      "19/19 [==============================] - 0s 4ms/step - loss: 0.1263 - accuracy: 0.8423 - val_loss: 0.1129 - val_accuracy: 0.8339\n",
      "Epoch 188/500\n",
      "19/19 [==============================] - 0s 4ms/step - loss: 0.1262 - accuracy: 0.8423 - val_loss: 0.1128 - val_accuracy: 0.8339\n",
      "Epoch 189/500\n",
      "19/19 [==============================] - 0s 3ms/step - loss: 0.1261 - accuracy: 0.8423 - val_loss: 0.1128 - val_accuracy: 0.8339\n",
      "Epoch 190/500\n",
      "19/19 [==============================] - 0s 4ms/step - loss: 0.1261 - accuracy: 0.8423 - val_loss: 0.1127 - val_accuracy: 0.8339\n",
      "Epoch 191/500\n",
      "19/19 [==============================] - 0s 4ms/step - loss: 0.1260 - accuracy: 0.8423 - val_loss: 0.1126 - val_accuracy: 0.8339\n",
      "Epoch 192/500\n",
      "19/19 [==============================] - 0s 4ms/step - loss: 0.1260 - accuracy: 0.8423 - val_loss: 0.1126 - val_accuracy: 0.8339\n",
      "Epoch 193/500\n",
      "19/19 [==============================] - 0s 4ms/step - loss: 0.1259 - accuracy: 0.8423 - val_loss: 0.1125 - val_accuracy: 0.8305\n",
      "Epoch 194/500\n",
      "19/19 [==============================] - 0s 4ms/step - loss: 0.1258 - accuracy: 0.8423 - val_loss: 0.1124 - val_accuracy: 0.8305\n",
      "Epoch 195/500\n",
      "19/19 [==============================] - 0s 4ms/step - loss: 0.1258 - accuracy: 0.8423 - val_loss: 0.1124 - val_accuracy: 0.8305\n",
      "Epoch 196/500\n",
      "19/19 [==============================] - 0s 4ms/step - loss: 0.1257 - accuracy: 0.8423 - val_loss: 0.1124 - val_accuracy: 0.8305\n",
      "Epoch 197/500\n",
      "19/19 [==============================] - 0s 4ms/step - loss: 0.1257 - accuracy: 0.8423 - val_loss: 0.1123 - val_accuracy: 0.8305\n",
      "Epoch 198/500\n",
      "19/19 [==============================] - 0s 4ms/step - loss: 0.1256 - accuracy: 0.8423 - val_loss: 0.1123 - val_accuracy: 0.8305\n",
      "Epoch 199/500\n",
      "19/19 [==============================] - 0s 4ms/step - loss: 0.1256 - accuracy: 0.8423 - val_loss: 0.1122 - val_accuracy: 0.8305\n",
      "Epoch 200/500\n",
      "19/19 [==============================] - 0s 4ms/step - loss: 0.1255 - accuracy: 0.8423 - val_loss: 0.1122 - val_accuracy: 0.8305\n",
      "Epoch 201/500\n",
      "19/19 [==============================] - 0s 4ms/step - loss: 0.1255 - accuracy: 0.8440 - val_loss: 0.1121 - val_accuracy: 0.8305\n",
      "Epoch 202/500\n",
      "19/19 [==============================] - 0s 4ms/step - loss: 0.1254 - accuracy: 0.8423 - val_loss: 0.1121 - val_accuracy: 0.8305\n",
      "Epoch 203/500\n",
      "19/19 [==============================] - 0s 4ms/step - loss: 0.1254 - accuracy: 0.8440 - val_loss: 0.1120 - val_accuracy: 0.8305\n",
      "Epoch 204/500\n",
      "19/19 [==============================] - 0s 3ms/step - loss: 0.1253 - accuracy: 0.8440 - val_loss: 0.1120 - val_accuracy: 0.8305\n",
      "Epoch 205/500\n",
      "19/19 [==============================] - 0s 4ms/step - loss: 0.1252 - accuracy: 0.8440 - val_loss: 0.1120 - val_accuracy: 0.8305\n",
      "Epoch 206/500\n",
      "19/19 [==============================] - 0s 4ms/step - loss: 0.1252 - accuracy: 0.8440 - val_loss: 0.1119 - val_accuracy: 0.8305\n",
      "Epoch 207/500\n",
      "19/19 [==============================] - 0s 4ms/step - loss: 0.1251 - accuracy: 0.8440 - val_loss: 0.1119 - val_accuracy: 0.8305\n",
      "Epoch 208/500\n",
      "19/19 [==============================] - 0s 4ms/step - loss: 0.1251 - accuracy: 0.8440 - val_loss: 0.1118 - val_accuracy: 0.8305\n",
      "Epoch 209/500\n",
      "19/19 [==============================] - 0s 4ms/step - loss: 0.1250 - accuracy: 0.8440 - val_loss: 0.1118 - val_accuracy: 0.8305\n",
      "Epoch 210/500\n",
      "19/19 [==============================] - 0s 4ms/step - loss: 0.1250 - accuracy: 0.8440 - val_loss: 0.1118 - val_accuracy: 0.8305\n",
      "Epoch 211/500\n",
      "19/19 [==============================] - 0s 4ms/step - loss: 0.1249 - accuracy: 0.8440 - val_loss: 0.1117 - val_accuracy: 0.8305\n",
      "Epoch 212/500\n",
      "19/19 [==============================] - 0s 4ms/step - loss: 0.1248 - accuracy: 0.8440 - val_loss: 0.1117 - val_accuracy: 0.8271\n",
      "Epoch 213/500\n",
      "19/19 [==============================] - 0s 4ms/step - loss: 0.1248 - accuracy: 0.8440 - val_loss: 0.1116 - val_accuracy: 0.8271\n",
      "Epoch 214/500\n",
      "19/19 [==============================] - 0s 4ms/step - loss: 0.1248 - accuracy: 0.8423 - val_loss: 0.1116 - val_accuracy: 0.8271\n",
      "Epoch 215/500\n",
      "19/19 [==============================] - 0s 3ms/step - loss: 0.1247 - accuracy: 0.8423 - val_loss: 0.1115 - val_accuracy: 0.8271\n",
      "Epoch 216/500\n",
      "19/19 [==============================] - 0s 4ms/step - loss: 0.1246 - accuracy: 0.8423 - val_loss: 0.1115 - val_accuracy: 0.8271\n",
      "Epoch 217/500\n",
      "19/19 [==============================] - 0s 3ms/step - loss: 0.1246 - accuracy: 0.8423 - val_loss: 0.1115 - val_accuracy: 0.8271\n",
      "Epoch 218/500\n",
      "19/19 [==============================] - 0s 4ms/step - loss: 0.1245 - accuracy: 0.8423 - val_loss: 0.1115 - val_accuracy: 0.8271\n",
      "Epoch 219/500\n",
      "19/19 [==============================] - 0s 4ms/step - loss: 0.1245 - accuracy: 0.8423 - val_loss: 0.1114 - val_accuracy: 0.8271\n",
      "Epoch 220/500\n",
      "19/19 [==============================] - 0s 4ms/step - loss: 0.1244 - accuracy: 0.8423 - val_loss: 0.1114 - val_accuracy: 0.8271\n",
      "Epoch 221/500\n",
      "19/19 [==============================] - 0s 4ms/step - loss: 0.1244 - accuracy: 0.8423 - val_loss: 0.1113 - val_accuracy: 0.8271\n",
      "Epoch 222/500\n",
      "19/19 [==============================] - 0s 4ms/step - loss: 0.1243 - accuracy: 0.8423 - val_loss: 0.1113 - val_accuracy: 0.8271\n",
      "Epoch 223/500\n",
      "19/19 [==============================] - 0s 4ms/step - loss: 0.1243 - accuracy: 0.8423 - val_loss: 0.1113 - val_accuracy: 0.8271\n",
      "Epoch 224/500\n",
      "19/19 [==============================] - 0s 4ms/step - loss: 0.1243 - accuracy: 0.8423 - val_loss: 0.1113 - val_accuracy: 0.8271\n",
      "Epoch 225/500\n",
      "19/19 [==============================] - 0s 4ms/step - loss: 0.1242 - accuracy: 0.8423 - val_loss: 0.1113 - val_accuracy: 0.8271\n",
      "Epoch 226/500\n",
      "19/19 [==============================] - 0s 4ms/step - loss: 0.1242 - accuracy: 0.8423 - val_loss: 0.1112 - val_accuracy: 0.8271\n",
      "Epoch 227/500\n",
      "19/19 [==============================] - 0s 4ms/step - loss: 0.1241 - accuracy: 0.8423 - val_loss: 0.1112 - val_accuracy: 0.8271\n",
      "Epoch 228/500\n",
      "19/19 [==============================] - 0s 4ms/step - loss: 0.1241 - accuracy: 0.8423 - val_loss: 0.1111 - val_accuracy: 0.8271\n",
      "Epoch 229/500\n",
      "19/19 [==============================] - 0s 5ms/step - loss: 0.1240 - accuracy: 0.8423 - val_loss: 0.1111 - val_accuracy: 0.8271\n",
      "Epoch 230/500\n",
      "19/19 [==============================] - 0s 4ms/step - loss: 0.1240 - accuracy: 0.8423 - val_loss: 0.1111 - val_accuracy: 0.8271\n",
      "Epoch 231/500\n",
      "19/19 [==============================] - 0s 4ms/step - loss: 0.1239 - accuracy: 0.8423 - val_loss: 0.1111 - val_accuracy: 0.8271\n",
      "Epoch 232/500\n",
      "19/19 [==============================] - 0s 4ms/step - loss: 0.1239 - accuracy: 0.8423 - val_loss: 0.1111 - val_accuracy: 0.8271\n",
      "Epoch 233/500\n",
      "19/19 [==============================] - 0s 4ms/step - loss: 0.1238 - accuracy: 0.8423 - val_loss: 0.1110 - val_accuracy: 0.8271\n",
      "Epoch 234/500\n",
      "19/19 [==============================] - 0s 4ms/step - loss: 0.1238 - accuracy: 0.8423 - val_loss: 0.1110 - val_accuracy: 0.8271\n",
      "Epoch 235/500\n",
      "19/19 [==============================] - 0s 4ms/step - loss: 0.1237 - accuracy: 0.8423 - val_loss: 0.1109 - val_accuracy: 0.8271\n",
      "Epoch 236/500\n",
      "19/19 [==============================] - 0s 4ms/step - loss: 0.1237 - accuracy: 0.8423 - val_loss: 0.1109 - val_accuracy: 0.8271\n",
      "Epoch 237/500\n",
      "19/19 [==============================] - 0s 8ms/step - loss: 0.1237 - accuracy: 0.8423 - val_loss: 0.1109 - val_accuracy: 0.8271\n",
      "Epoch 238/500\n",
      "19/19 [==============================] - 0s 4ms/step - loss: 0.1236 - accuracy: 0.8423 - val_loss: 0.1109 - val_accuracy: 0.8271\n",
      "Epoch 239/500\n",
      "19/19 [==============================] - 0s 4ms/step - loss: 0.1236 - accuracy: 0.8423 - val_loss: 0.1108 - val_accuracy: 0.8271\n",
      "Epoch 240/500\n",
      "19/19 [==============================] - 0s 4ms/step - loss: 0.1235 - accuracy: 0.8423 - val_loss: 0.1108 - val_accuracy: 0.8271\n",
      "Epoch 241/500\n",
      "19/19 [==============================] - 0s 4ms/step - loss: 0.1235 - accuracy: 0.8423 - val_loss: 0.1108 - val_accuracy: 0.8271\n",
      "Epoch 242/500\n",
      "19/19 [==============================] - 0s 4ms/step - loss: 0.1234 - accuracy: 0.8423 - val_loss: 0.1108 - val_accuracy: 0.8271\n",
      "Epoch 243/500\n",
      "19/19 [==============================] - 0s 4ms/step - loss: 0.1234 - accuracy: 0.8423 - val_loss: 0.1108 - val_accuracy: 0.8271\n",
      "Epoch 244/500\n",
      "19/19 [==============================] - 0s 5ms/step - loss: 0.1234 - accuracy: 0.8423 - val_loss: 0.1108 - val_accuracy: 0.8271\n",
      "Epoch 245/500\n",
      "19/19 [==============================] - 0s 4ms/step - loss: 0.1233 - accuracy: 0.8423 - val_loss: 0.1107 - val_accuracy: 0.8271\n",
      "Epoch 246/500\n",
      "19/19 [==============================] - 0s 3ms/step - loss: 0.1233 - accuracy: 0.8423 - val_loss: 0.1107 - val_accuracy: 0.8271\n",
      "Epoch 247/500\n",
      "19/19 [==============================] - 0s 4ms/step - loss: 0.1233 - accuracy: 0.8423 - val_loss: 0.1107 - val_accuracy: 0.8271\n",
      "Epoch 248/500\n",
      "19/19 [==============================] - 0s 4ms/step - loss: 0.1232 - accuracy: 0.8423 - val_loss: 0.1107 - val_accuracy: 0.8271\n",
      "Epoch 249/500\n",
      "19/19 [==============================] - 0s 4ms/step - loss: 0.1232 - accuracy: 0.8423 - val_loss: 0.1106 - val_accuracy: 0.8271\n",
      "Epoch 250/500\n",
      "19/19 [==============================] - 0s 3ms/step - loss: 0.1231 - accuracy: 0.8423 - val_loss: 0.1106 - val_accuracy: 0.8271\n",
      "Epoch 251/500\n",
      "19/19 [==============================] - 0s 4ms/step - loss: 0.1231 - accuracy: 0.8423 - val_loss: 0.1106 - val_accuracy: 0.8271\n",
      "Epoch 252/500\n",
      "19/19 [==============================] - 0s 4ms/step - loss: 0.1231 - accuracy: 0.8423 - val_loss: 0.1106 - val_accuracy: 0.8271\n",
      "Epoch 253/500\n",
      "19/19 [==============================] - 0s 4ms/step - loss: 0.1230 - accuracy: 0.8423 - val_loss: 0.1105 - val_accuracy: 0.8271\n",
      "Epoch 254/500\n",
      "19/19 [==============================] - 0s 4ms/step - loss: 0.1230 - accuracy: 0.8423 - val_loss: 0.1105 - val_accuracy: 0.8271\n",
      "Epoch 255/500\n",
      "19/19 [==============================] - 0s 4ms/step - loss: 0.1230 - accuracy: 0.8423 - val_loss: 0.1105 - val_accuracy: 0.8271\n",
      "Epoch 256/500\n",
      "19/19 [==============================] - 0s 4ms/step - loss: 0.1229 - accuracy: 0.8423 - val_loss: 0.1104 - val_accuracy: 0.8271\n",
      "Epoch 257/500\n",
      "19/19 [==============================] - 0s 4ms/step - loss: 0.1229 - accuracy: 0.8423 - val_loss: 0.1104 - val_accuracy: 0.8271\n",
      "Epoch 258/500\n",
      "19/19 [==============================] - 0s 4ms/step - loss: 0.1229 - accuracy: 0.8423 - val_loss: 0.1104 - val_accuracy: 0.8271\n",
      "Epoch 259/500\n",
      "19/19 [==============================] - 0s 4ms/step - loss: 0.1228 - accuracy: 0.8423 - val_loss: 0.1104 - val_accuracy: 0.8271\n",
      "Epoch 260/500\n",
      "19/19 [==============================] - 0s 4ms/step - loss: 0.1228 - accuracy: 0.8423 - val_loss: 0.1104 - val_accuracy: 0.8271\n",
      "Epoch 261/500\n",
      "19/19 [==============================] - 0s 4ms/step - loss: 0.1228 - accuracy: 0.8423 - val_loss: 0.1104 - val_accuracy: 0.8271\n",
      "Epoch 262/500\n",
      "19/19 [==============================] - 0s 4ms/step - loss: 0.1227 - accuracy: 0.8423 - val_loss: 0.1104 - val_accuracy: 0.8271\n",
      "Epoch 263/500\n",
      "19/19 [==============================] - 0s 4ms/step - loss: 0.1227 - accuracy: 0.8423 - val_loss: 0.1104 - val_accuracy: 0.8271\n",
      "Epoch 264/500\n",
      "19/19 [==============================] - 0s 4ms/step - loss: 0.1226 - accuracy: 0.8423 - val_loss: 0.1103 - val_accuracy: 0.8271\n",
      "Epoch 265/500\n",
      "19/19 [==============================] - 0s 4ms/step - loss: 0.1226 - accuracy: 0.8423 - val_loss: 0.1103 - val_accuracy: 0.8271\n",
      "Epoch 266/500\n",
      "19/19 [==============================] - 0s 4ms/step - loss: 0.1226 - accuracy: 0.8423 - val_loss: 0.1103 - val_accuracy: 0.8271\n",
      "Epoch 267/500\n",
      "19/19 [==============================] - 0s 4ms/step - loss: 0.1225 - accuracy: 0.8423 - val_loss: 0.1103 - val_accuracy: 0.8271\n",
      "Epoch 268/500\n",
      "19/19 [==============================] - 0s 4ms/step - loss: 0.1225 - accuracy: 0.8423 - val_loss: 0.1102 - val_accuracy: 0.8271\n",
      "Epoch 269/500\n",
      "19/19 [==============================] - 0s 4ms/step - loss: 0.1225 - accuracy: 0.8423 - val_loss: 0.1102 - val_accuracy: 0.8271\n",
      "Epoch 270/500\n",
      "19/19 [==============================] - 0s 4ms/step - loss: 0.1224 - accuracy: 0.8423 - val_loss: 0.1102 - val_accuracy: 0.8271\n",
      "Epoch 271/500\n",
      "19/19 [==============================] - 0s 3ms/step - loss: 0.1224 - accuracy: 0.8423 - val_loss: 0.1102 - val_accuracy: 0.8271\n",
      "Epoch 272/500\n",
      "19/19 [==============================] - 0s 4ms/step - loss: 0.1224 - accuracy: 0.8423 - val_loss: 0.1102 - val_accuracy: 0.8271\n",
      "Epoch 273/500\n",
      "19/19 [==============================] - 0s 4ms/step - loss: 0.1223 - accuracy: 0.8423 - val_loss: 0.1102 - val_accuracy: 0.8271\n",
      "Epoch 274/500\n",
      "19/19 [==============================] - 0s 4ms/step - loss: 0.1223 - accuracy: 0.8423 - val_loss: 0.1102 - val_accuracy: 0.8271\n",
      "Epoch 275/500\n",
      "19/19 [==============================] - 0s 4ms/step - loss: 0.1223 - accuracy: 0.8423 - val_loss: 0.1102 - val_accuracy: 0.8271\n",
      "Epoch 276/500\n",
      "19/19 [==============================] - 0s 4ms/step - loss: 0.1222 - accuracy: 0.8423 - val_loss: 0.1101 - val_accuracy: 0.8237\n",
      "Epoch 277/500\n",
      "19/19 [==============================] - 0s 4ms/step - loss: 0.1222 - accuracy: 0.8423 - val_loss: 0.1101 - val_accuracy: 0.8237\n",
      "Epoch 278/500\n",
      "19/19 [==============================] - 0s 4ms/step - loss: 0.1222 - accuracy: 0.8423 - val_loss: 0.1101 - val_accuracy: 0.8237\n",
      "Epoch 279/500\n",
      "19/19 [==============================] - 0s 4ms/step - loss: 0.1222 - accuracy: 0.8423 - val_loss: 0.1101 - val_accuracy: 0.8237\n",
      "Epoch 280/500\n",
      "19/19 [==============================] - 0s 4ms/step - loss: 0.1221 - accuracy: 0.8423 - val_loss: 0.1101 - val_accuracy: 0.8237\n",
      "Epoch 281/500\n",
      "19/19 [==============================] - 0s 4ms/step - loss: 0.1221 - accuracy: 0.8406 - val_loss: 0.1101 - val_accuracy: 0.8237\n",
      "Epoch 282/500\n",
      "19/19 [==============================] - 0s 4ms/step - loss: 0.1221 - accuracy: 0.8406 - val_loss: 0.1101 - val_accuracy: 0.8271\n",
      "Epoch 283/500\n",
      "19/19 [==============================] - 0s 4ms/step - loss: 0.1220 - accuracy: 0.8406 - val_loss: 0.1101 - val_accuracy: 0.8271\n",
      "Epoch 284/500\n",
      "19/19 [==============================] - 0s 3ms/step - loss: 0.1220 - accuracy: 0.8406 - val_loss: 0.1101 - val_accuracy: 0.8271\n",
      "Epoch 285/500\n",
      "19/19 [==============================] - 0s 4ms/step - loss: 0.1220 - accuracy: 0.8423 - val_loss: 0.1101 - val_accuracy: 0.8271\n",
      "Epoch 286/500\n",
      "19/19 [==============================] - 0s 4ms/step - loss: 0.1219 - accuracy: 0.8423 - val_loss: 0.1100 - val_accuracy: 0.8271\n",
      "Epoch 287/500\n",
      "19/19 [==============================] - 0s 4ms/step - loss: 0.1219 - accuracy: 0.8406 - val_loss: 0.1100 - val_accuracy: 0.8271\n",
      "Epoch 288/500\n",
      "19/19 [==============================] - 0s 4ms/step - loss: 0.1219 - accuracy: 0.8423 - val_loss: 0.1100 - val_accuracy: 0.8271\n",
      "Epoch 289/500\n",
      "19/19 [==============================] - 0s 4ms/step - loss: 0.1219 - accuracy: 0.8423 - val_loss: 0.1100 - val_accuracy: 0.8271\n",
      "Epoch 290/500\n",
      "19/19 [==============================] - 0s 4ms/step - loss: 0.1218 - accuracy: 0.8423 - val_loss: 0.1099 - val_accuracy: 0.8271\n",
      "Epoch 291/500\n",
      "19/19 [==============================] - 0s 4ms/step - loss: 0.1218 - accuracy: 0.8423 - val_loss: 0.1099 - val_accuracy: 0.8271\n",
      "Epoch 292/500\n",
      "19/19 [==============================] - 0s 4ms/step - loss: 0.1218 - accuracy: 0.8423 - val_loss: 0.1099 - val_accuracy: 0.8271\n",
      "Epoch 293/500\n",
      "19/19 [==============================] - 0s 4ms/step - loss: 0.1218 - accuracy: 0.8423 - val_loss: 0.1099 - val_accuracy: 0.8271\n",
      "Epoch 294/500\n",
      "19/19 [==============================] - 0s 3ms/step - loss: 0.1217 - accuracy: 0.8423 - val_loss: 0.1099 - val_accuracy: 0.8271\n",
      "Epoch 295/500\n",
      "19/19 [==============================] - 0s 4ms/step - loss: 0.1217 - accuracy: 0.8423 - val_loss: 0.1099 - val_accuracy: 0.8271\n",
      "Epoch 296/500\n",
      "19/19 [==============================] - 0s 4ms/step - loss: 0.1217 - accuracy: 0.8423 - val_loss: 0.1099 - val_accuracy: 0.8271\n",
      "Epoch 297/500\n",
      "19/19 [==============================] - 0s 4ms/step - loss: 0.1216 - accuracy: 0.8423 - val_loss: 0.1099 - val_accuracy: 0.8271\n",
      "Epoch 298/500\n",
      "19/19 [==============================] - 0s 4ms/step - loss: 0.1216 - accuracy: 0.8423 - val_loss: 0.1098 - val_accuracy: 0.8271\n",
      "Epoch 299/500\n",
      "19/19 [==============================] - 0s 4ms/step - loss: 0.1216 - accuracy: 0.8423 - val_loss: 0.1098 - val_accuracy: 0.8271\n",
      "Epoch 300/500\n",
      "19/19 [==============================] - 0s 4ms/step - loss: 0.1216 - accuracy: 0.8423 - val_loss: 0.1098 - val_accuracy: 0.8271\n",
      "Epoch 301/500\n",
      "19/19 [==============================] - 0s 4ms/step - loss: 0.1215 - accuracy: 0.8423 - val_loss: 0.1098 - val_accuracy: 0.8271\n",
      "Epoch 302/500\n",
      "19/19 [==============================] - 0s 4ms/step - loss: 0.1215 - accuracy: 0.8440 - val_loss: 0.1098 - val_accuracy: 0.8271\n",
      "Epoch 303/500\n",
      "19/19 [==============================] - 0s 4ms/step - loss: 0.1215 - accuracy: 0.8423 - val_loss: 0.1098 - val_accuracy: 0.8271\n",
      "Epoch 304/500\n",
      "19/19 [==============================] - 0s 4ms/step - loss: 0.1215 - accuracy: 0.8423 - val_loss: 0.1098 - val_accuracy: 0.8271\n",
      "Epoch 305/500\n",
      "19/19 [==============================] - 0s 4ms/step - loss: 0.1214 - accuracy: 0.8423 - val_loss: 0.1098 - val_accuracy: 0.8271\n",
      "Epoch 306/500\n",
      "19/19 [==============================] - 0s 4ms/step - loss: 0.1214 - accuracy: 0.8440 - val_loss: 0.1098 - val_accuracy: 0.8271\n",
      "Epoch 307/500\n",
      "19/19 [==============================] - 0s 4ms/step - loss: 0.1214 - accuracy: 0.8423 - val_loss: 0.1098 - val_accuracy: 0.8271\n",
      "Epoch 308/500\n",
      "19/19 [==============================] - 0s 4ms/step - loss: 0.1214 - accuracy: 0.8456 - val_loss: 0.1098 - val_accuracy: 0.8271\n",
      "Epoch 309/500\n",
      "19/19 [==============================] - 0s 4ms/step - loss: 0.1213 - accuracy: 0.8423 - val_loss: 0.1098 - val_accuracy: 0.8271\n",
      "Epoch 310/500\n",
      "19/19 [==============================] - 0s 4ms/step - loss: 0.1213 - accuracy: 0.8423 - val_loss: 0.1098 - val_accuracy: 0.8271\n",
      "Epoch 311/500\n",
      "19/19 [==============================] - 0s 4ms/step - loss: 0.1213 - accuracy: 0.8406 - val_loss: 0.1097 - val_accuracy: 0.8271\n",
      "Epoch 312/500\n",
      "19/19 [==============================] - 0s 4ms/step - loss: 0.1213 - accuracy: 0.8456 - val_loss: 0.1097 - val_accuracy: 0.8271\n",
      "Epoch 313/500\n",
      "19/19 [==============================] - 0s 4ms/step - loss: 0.1212 - accuracy: 0.8440 - val_loss: 0.1097 - val_accuracy: 0.8271\n",
      "Epoch 314/500\n",
      "19/19 [==============================] - 0s 4ms/step - loss: 0.1212 - accuracy: 0.8456 - val_loss: 0.1097 - val_accuracy: 0.8271\n",
      "Epoch 315/500\n",
      "19/19 [==============================] - 0s 3ms/step - loss: 0.1212 - accuracy: 0.8440 - val_loss: 0.1097 - val_accuracy: 0.8271\n",
      "Epoch 316/500\n",
      "19/19 [==============================] - 0s 4ms/step - loss: 0.1212 - accuracy: 0.8456 - val_loss: 0.1097 - val_accuracy: 0.8271\n",
      "Epoch 317/500\n",
      "19/19 [==============================] - 0s 4ms/step - loss: 0.1211 - accuracy: 0.8406 - val_loss: 0.1096 - val_accuracy: 0.8271\n",
      "Epoch 318/500\n",
      "19/19 [==============================] - 0s 4ms/step - loss: 0.1211 - accuracy: 0.8456 - val_loss: 0.1096 - val_accuracy: 0.8271\n",
      "Epoch 319/500\n",
      "19/19 [==============================] - 0s 4ms/step - loss: 0.1211 - accuracy: 0.8456 - val_loss: 0.1096 - val_accuracy: 0.8271\n",
      "Epoch 320/500\n",
      "19/19 [==============================] - 0s 4ms/step - loss: 0.1211 - accuracy: 0.8456 - val_loss: 0.1096 - val_accuracy: 0.8271\n",
      "Epoch 321/500\n",
      "19/19 [==============================] - 0s 4ms/step - loss: 0.1210 - accuracy: 0.8456 - val_loss: 0.1096 - val_accuracy: 0.8271\n",
      "Epoch 322/500\n",
      "19/19 [==============================] - 0s 4ms/step - loss: 0.1210 - accuracy: 0.8456 - val_loss: 0.1096 - val_accuracy: 0.8271\n",
      "Epoch 323/500\n",
      "19/19 [==============================] - 0s 4ms/step - loss: 0.1210 - accuracy: 0.8456 - val_loss: 0.1096 - val_accuracy: 0.8271\n",
      "Epoch 324/500\n",
      "19/19 [==============================] - 0s 4ms/step - loss: 0.1210 - accuracy: 0.8456 - val_loss: 0.1096 - val_accuracy: 0.8271\n",
      "Epoch 325/500\n",
      "19/19 [==============================] - 0s 4ms/step - loss: 0.1210 - accuracy: 0.8456 - val_loss: 0.1096 - val_accuracy: 0.8271\n",
      "Epoch 326/500\n",
      "19/19 [==============================] - 0s 4ms/step - loss: 0.1209 - accuracy: 0.8456 - val_loss: 0.1096 - val_accuracy: 0.8271\n",
      "Epoch 327/500\n",
      "19/19 [==============================] - 0s 3ms/step - loss: 0.1209 - accuracy: 0.8456 - val_loss: 0.1095 - val_accuracy: 0.8271\n",
      "Epoch 328/500\n",
      "19/19 [==============================] - 0s 4ms/step - loss: 0.1209 - accuracy: 0.8456 - val_loss: 0.1095 - val_accuracy: 0.8271\n",
      "Epoch 329/500\n",
      "19/19 [==============================] - 0s 4ms/step - loss: 0.1209 - accuracy: 0.8456 - val_loss: 0.1095 - val_accuracy: 0.8271\n",
      "Epoch 330/500\n",
      "19/19 [==============================] - 0s 4ms/step - loss: 0.1208 - accuracy: 0.8456 - val_loss: 0.1095 - val_accuracy: 0.8271\n",
      "Epoch 331/500\n",
      "19/19 [==============================] - 0s 4ms/step - loss: 0.1208 - accuracy: 0.8456 - val_loss: 0.1095 - val_accuracy: 0.8271\n",
      "Epoch 332/500\n",
      "19/19 [==============================] - 0s 4ms/step - loss: 0.1208 - accuracy: 0.8456 - val_loss: 0.1095 - val_accuracy: 0.8271\n",
      "Epoch 333/500\n",
      "19/19 [==============================] - 0s 4ms/step - loss: 0.1208 - accuracy: 0.8456 - val_loss: 0.1095 - val_accuracy: 0.8271\n",
      "Epoch 334/500\n",
      "19/19 [==============================] - 0s 3ms/step - loss: 0.1208 - accuracy: 0.8456 - val_loss: 0.1094 - val_accuracy: 0.8271\n",
      "Epoch 335/500\n",
      "19/19 [==============================] - 0s 4ms/step - loss: 0.1207 - accuracy: 0.8473 - val_loss: 0.1094 - val_accuracy: 0.8271\n",
      "Epoch 336/500\n",
      "19/19 [==============================] - 0s 4ms/step - loss: 0.1207 - accuracy: 0.8456 - val_loss: 0.1095 - val_accuracy: 0.8271\n",
      "Epoch 337/500\n",
      "19/19 [==============================] - 0s 4ms/step - loss: 0.1207 - accuracy: 0.8473 - val_loss: 0.1095 - val_accuracy: 0.8271\n",
      "Epoch 338/500\n",
      "19/19 [==============================] - 0s 3ms/step - loss: 0.1207 - accuracy: 0.8456 - val_loss: 0.1095 - val_accuracy: 0.8271\n",
      "Epoch 339/500\n",
      "19/19 [==============================] - 0s 4ms/step - loss: 0.1206 - accuracy: 0.8456 - val_loss: 0.1094 - val_accuracy: 0.8271\n",
      "Epoch 340/500\n",
      "19/19 [==============================] - 0s 3ms/step - loss: 0.1206 - accuracy: 0.8456 - val_loss: 0.1094 - val_accuracy: 0.8271\n",
      "Epoch 341/500\n",
      "19/19 [==============================] - 0s 3ms/step - loss: 0.1206 - accuracy: 0.8473 - val_loss: 0.1094 - val_accuracy: 0.8271\n",
      "Epoch 342/500\n",
      "19/19 [==============================] - 0s 4ms/step - loss: 0.1206 - accuracy: 0.8473 - val_loss: 0.1094 - val_accuracy: 0.8271\n",
      "Epoch 343/500\n",
      "19/19 [==============================] - 0s 4ms/step - loss: 0.1206 - accuracy: 0.8473 - val_loss: 0.1094 - val_accuracy: 0.8271\n",
      "Epoch 344/500\n",
      "19/19 [==============================] - 0s 4ms/step - loss: 0.1205 - accuracy: 0.8473 - val_loss: 0.1094 - val_accuracy: 0.8271\n",
      "Epoch 345/500\n",
      "19/19 [==============================] - 0s 4ms/step - loss: 0.1205 - accuracy: 0.8473 - val_loss: 0.1094 - val_accuracy: 0.8271\n",
      "Epoch 346/500\n",
      "19/19 [==============================] - 0s 4ms/step - loss: 0.1205 - accuracy: 0.8473 - val_loss: 0.1094 - val_accuracy: 0.8271\n",
      "Epoch 347/500\n",
      "19/19 [==============================] - 0s 4ms/step - loss: 0.1205 - accuracy: 0.8473 - val_loss: 0.1094 - val_accuracy: 0.8271\n",
      "Epoch 348/500\n",
      "19/19 [==============================] - 0s 4ms/step - loss: 0.1205 - accuracy: 0.8473 - val_loss: 0.1093 - val_accuracy: 0.8373\n",
      "Epoch 349/500\n",
      "19/19 [==============================] - 0s 3ms/step - loss: 0.1205 - accuracy: 0.8490 - val_loss: 0.1093 - val_accuracy: 0.8373\n",
      "Epoch 350/500\n",
      "19/19 [==============================] - 0s 3ms/step - loss: 0.1204 - accuracy: 0.8507 - val_loss: 0.1093 - val_accuracy: 0.8373\n",
      "Epoch 351/500\n",
      "19/19 [==============================] - 0s 4ms/step - loss: 0.1204 - accuracy: 0.8507 - val_loss: 0.1093 - val_accuracy: 0.8373\n",
      "Epoch 352/500\n",
      "19/19 [==============================] - 0s 4ms/step - loss: 0.1204 - accuracy: 0.8507 - val_loss: 0.1093 - val_accuracy: 0.8373\n",
      "Epoch 353/500\n",
      "19/19 [==============================] - 0s 4ms/step - loss: 0.1204 - accuracy: 0.8507 - val_loss: 0.1093 - val_accuracy: 0.8373\n",
      "Epoch 354/500\n",
      "19/19 [==============================] - 0s 4ms/step - loss: 0.1204 - accuracy: 0.8507 - val_loss: 0.1093 - val_accuracy: 0.8373\n",
      "Epoch 355/500\n",
      "19/19 [==============================] - 0s 4ms/step - loss: 0.1203 - accuracy: 0.8507 - val_loss: 0.1092 - val_accuracy: 0.8373\n",
      "Epoch 356/500\n",
      "19/19 [==============================] - 0s 4ms/step - loss: 0.1203 - accuracy: 0.8507 - val_loss: 0.1092 - val_accuracy: 0.8373\n",
      "Epoch 357/500\n",
      "19/19 [==============================] - 0s 4ms/step - loss: 0.1203 - accuracy: 0.8507 - val_loss: 0.1092 - val_accuracy: 0.8373\n",
      "Epoch 358/500\n",
      "19/19 [==============================] - 0s 4ms/step - loss: 0.1203 - accuracy: 0.8507 - val_loss: 0.1092 - val_accuracy: 0.8373\n",
      "Epoch 359/500\n",
      "19/19 [==============================] - 0s 4ms/step - loss: 0.1203 - accuracy: 0.8507 - val_loss: 0.1093 - val_accuracy: 0.8373\n",
      "Epoch 360/500\n",
      "19/19 [==============================] - 0s 4ms/step - loss: 0.1203 - accuracy: 0.8507 - val_loss: 0.1092 - val_accuracy: 0.8373\n",
      "Epoch 361/500\n",
      "19/19 [==============================] - 0s 4ms/step - loss: 0.1202 - accuracy: 0.8507 - val_loss: 0.1092 - val_accuracy: 0.8373\n",
      "Epoch 362/500\n",
      "19/19 [==============================] - 0s 4ms/step - loss: 0.1202 - accuracy: 0.8507 - val_loss: 0.1092 - val_accuracy: 0.8373\n",
      "Epoch 363/500\n",
      "19/19 [==============================] - 0s 4ms/step - loss: 0.1202 - accuracy: 0.8507 - val_loss: 0.1092 - val_accuracy: 0.8373\n",
      "Epoch 364/500\n",
      "19/19 [==============================] - 0s 4ms/step - loss: 0.1202 - accuracy: 0.8507 - val_loss: 0.1092 - val_accuracy: 0.8373\n",
      "Epoch 365/500\n",
      "19/19 [==============================] - 0s 4ms/step - loss: 0.1202 - accuracy: 0.8507 - val_loss: 0.1092 - val_accuracy: 0.8373\n",
      "Epoch 366/500\n",
      "19/19 [==============================] - 0s 4ms/step - loss: 0.1201 - accuracy: 0.8507 - val_loss: 0.1092 - val_accuracy: 0.8373\n",
      "Epoch 367/500\n",
      "19/19 [==============================] - 0s 4ms/step - loss: 0.1201 - accuracy: 0.8507 - val_loss: 0.1091 - val_accuracy: 0.8373\n",
      "Epoch 368/500\n",
      "19/19 [==============================] - 0s 4ms/step - loss: 0.1201 - accuracy: 0.8507 - val_loss: 0.1091 - val_accuracy: 0.8373\n",
      "Epoch 369/500\n",
      "19/19 [==============================] - 0s 4ms/step - loss: 0.1201 - accuracy: 0.8507 - val_loss: 0.1091 - val_accuracy: 0.8373\n",
      "Epoch 370/500\n",
      "19/19 [==============================] - 0s 4ms/step - loss: 0.1201 - accuracy: 0.8507 - val_loss: 0.1091 - val_accuracy: 0.8373\n",
      "Epoch 371/500\n",
      "19/19 [==============================] - 0s 4ms/step - loss: 0.1201 - accuracy: 0.8507 - val_loss: 0.1091 - val_accuracy: 0.8373\n",
      "Epoch 372/500\n",
      "19/19 [==============================] - 0s 4ms/step - loss: 0.1200 - accuracy: 0.8507 - val_loss: 0.1091 - val_accuracy: 0.8373\n",
      "Epoch 373/500\n",
      "19/19 [==============================] - 0s 4ms/step - loss: 0.1200 - accuracy: 0.8507 - val_loss: 0.1091 - val_accuracy: 0.8373\n",
      "Epoch 374/500\n",
      "19/19 [==============================] - 0s 4ms/step - loss: 0.1200 - accuracy: 0.8507 - val_loss: 0.1092 - val_accuracy: 0.8373\n",
      "Epoch 375/500\n",
      "19/19 [==============================] - 0s 4ms/step - loss: 0.1200 - accuracy: 0.8507 - val_loss: 0.1091 - val_accuracy: 0.8373\n",
      "Epoch 376/500\n",
      "19/19 [==============================] - 0s 4ms/step - loss: 0.1200 - accuracy: 0.8507 - val_loss: 0.1092 - val_accuracy: 0.8373\n",
      "Epoch 377/500\n",
      "19/19 [==============================] - 0s 4ms/step - loss: 0.1200 - accuracy: 0.8507 - val_loss: 0.1092 - val_accuracy: 0.8373\n",
      "Epoch 378/500\n",
      "19/19 [==============================] - 0s 4ms/step - loss: 0.1200 - accuracy: 0.8507 - val_loss: 0.1092 - val_accuracy: 0.8373\n",
      "Epoch 379/500\n",
      "19/19 [==============================] - 0s 4ms/step - loss: 0.1199 - accuracy: 0.8507 - val_loss: 0.1091 - val_accuracy: 0.8373\n",
      "Epoch 380/500\n",
      "19/19 [==============================] - 0s 4ms/step - loss: 0.1199 - accuracy: 0.8507 - val_loss: 0.1091 - val_accuracy: 0.8373\n",
      "Epoch 381/500\n",
      "19/19 [==============================] - 0s 4ms/step - loss: 0.1199 - accuracy: 0.8507 - val_loss: 0.1091 - val_accuracy: 0.8373\n",
      "Epoch 382/500\n",
      "19/19 [==============================] - 0s 4ms/step - loss: 0.1199 - accuracy: 0.8507 - val_loss: 0.1091 - val_accuracy: 0.8373\n",
      "Epoch 383/500\n",
      "19/19 [==============================] - 0s 4ms/step - loss: 0.1199 - accuracy: 0.8507 - val_loss: 0.1091 - val_accuracy: 0.8373\n",
      "Epoch 384/500\n",
      "19/19 [==============================] - 0s 4ms/step - loss: 0.1199 - accuracy: 0.8507 - val_loss: 0.1090 - val_accuracy: 0.8373\n",
      "Epoch 385/500\n",
      "19/19 [==============================] - 0s 4ms/step - loss: 0.1198 - accuracy: 0.8507 - val_loss: 0.1090 - val_accuracy: 0.8373\n",
      "Epoch 386/500\n",
      "19/19 [==============================] - 0s 4ms/step - loss: 0.1198 - accuracy: 0.8507 - val_loss: 0.1090 - val_accuracy: 0.8373\n",
      "Epoch 387/500\n",
      "19/19 [==============================] - 0s 4ms/step - loss: 0.1198 - accuracy: 0.8507 - val_loss: 0.1090 - val_accuracy: 0.8373\n",
      "Epoch 388/500\n",
      "19/19 [==============================] - 0s 4ms/step - loss: 0.1198 - accuracy: 0.8507 - val_loss: 0.1090 - val_accuracy: 0.8373\n",
      "Epoch 389/500\n",
      "19/19 [==============================] - 0s 4ms/step - loss: 0.1198 - accuracy: 0.8507 - val_loss: 0.1090 - val_accuracy: 0.8373\n",
      "Epoch 390/500\n",
      "19/19 [==============================] - 0s 4ms/step - loss: 0.1198 - accuracy: 0.8507 - val_loss: 0.1090 - val_accuracy: 0.8373\n",
      "Epoch 391/500\n",
      "19/19 [==============================] - 0s 3ms/step - loss: 0.1197 - accuracy: 0.8507 - val_loss: 0.1090 - val_accuracy: 0.8373\n",
      "Epoch 392/500\n",
      "19/19 [==============================] - 0s 4ms/step - loss: 0.1197 - accuracy: 0.8507 - val_loss: 0.1090 - val_accuracy: 0.8373\n",
      "Epoch 393/500\n",
      "19/19 [==============================] - 0s 4ms/step - loss: 0.1197 - accuracy: 0.8507 - val_loss: 0.1090 - val_accuracy: 0.8373\n",
      "Epoch 394/500\n",
      "19/19 [==============================] - 0s 4ms/step - loss: 0.1197 - accuracy: 0.8507 - val_loss: 0.1090 - val_accuracy: 0.8373\n",
      "Epoch 395/500\n",
      "19/19 [==============================] - 0s 4ms/step - loss: 0.1197 - accuracy: 0.8507 - val_loss: 0.1090 - val_accuracy: 0.8373\n",
      "Epoch 396/500\n",
      "19/19 [==============================] - 0s 4ms/step - loss: 0.1197 - accuracy: 0.8507 - val_loss: 0.1090 - val_accuracy: 0.8373\n",
      "Epoch 397/500\n",
      "19/19 [==============================] - 0s 4ms/step - loss: 0.1197 - accuracy: 0.8507 - val_loss: 0.1090 - val_accuracy: 0.8373\n",
      "Epoch 398/500\n",
      "19/19 [==============================] - 0s 4ms/step - loss: 0.1196 - accuracy: 0.8507 - val_loss: 0.1091 - val_accuracy: 0.8373\n",
      "Epoch 399/500\n",
      "19/19 [==============================] - 0s 4ms/step - loss: 0.1196 - accuracy: 0.8507 - val_loss: 0.1091 - val_accuracy: 0.8373\n",
      "Epoch 400/500\n",
      "19/19 [==============================] - 0s 4ms/step - loss: 0.1196 - accuracy: 0.8507 - val_loss: 0.1091 - val_accuracy: 0.8373\n",
      "Epoch 401/500\n",
      "19/19 [==============================] - 0s 4ms/step - loss: 0.1196 - accuracy: 0.8507 - val_loss: 0.1091 - val_accuracy: 0.8373\n",
      "Epoch 402/500\n",
      "19/19 [==============================] - 0s 3ms/step - loss: 0.1196 - accuracy: 0.8507 - val_loss: 0.1091 - val_accuracy: 0.8373\n",
      "Epoch 403/500\n",
      "19/19 [==============================] - 0s 4ms/step - loss: 0.1196 - accuracy: 0.8507 - val_loss: 0.1091 - val_accuracy: 0.8373\n",
      "Epoch 404/500\n",
      "19/19 [==============================] - 0s 4ms/step - loss: 0.1195 - accuracy: 0.8507 - val_loss: 0.1091 - val_accuracy: 0.8373\n",
      "Epoch 405/500\n",
      "19/19 [==============================] - 0s 5ms/step - loss: 0.1195 - accuracy: 0.8507 - val_loss: 0.1091 - val_accuracy: 0.8373\n",
      "Epoch 406/500\n",
      "19/19 [==============================] - 0s 6ms/step - loss: 0.1195 - accuracy: 0.8507 - val_loss: 0.1091 - val_accuracy: 0.8373\n",
      "Epoch 407/500\n",
      "19/19 [==============================] - 0s 5ms/step - loss: 0.1195 - accuracy: 0.8507 - val_loss: 0.1091 - val_accuracy: 0.8373\n",
      "Epoch 408/500\n",
      "19/19 [==============================] - 0s 12ms/step - loss: 0.1195 - accuracy: 0.8507 - val_loss: 0.1091 - val_accuracy: 0.8373\n",
      "Epoch 409/500\n",
      "19/19 [==============================] - 0s 10ms/step - loss: 0.1195 - accuracy: 0.8507 - val_loss: 0.1091 - val_accuracy: 0.8373\n",
      "Epoch 410/500\n",
      "19/19 [==============================] - 0s 3ms/step - loss: 0.1195 - accuracy: 0.8507 - val_loss: 0.1091 - val_accuracy: 0.8373\n",
      "Epoch 411/500\n",
      "19/19 [==============================] - 0s 4ms/step - loss: 0.1195 - accuracy: 0.8507 - val_loss: 0.1091 - val_accuracy: 0.8373\n",
      "Epoch 412/500\n",
      "19/19 [==============================] - 0s 4ms/step - loss: 0.1194 - accuracy: 0.8507 - val_loss: 0.1091 - val_accuracy: 0.8373\n",
      "Epoch 413/500\n",
      "19/19 [==============================] - 0s 4ms/step - loss: 0.1194 - accuracy: 0.8507 - val_loss: 0.1091 - val_accuracy: 0.8373\n",
      "Epoch 414/500\n",
      "19/19 [==============================] - 0s 4ms/step - loss: 0.1194 - accuracy: 0.8507 - val_loss: 0.1091 - val_accuracy: 0.8373\n",
      "Epoch 415/500\n",
      "19/19 [==============================] - 0s 3ms/step - loss: 0.1194 - accuracy: 0.8507 - val_loss: 0.1091 - val_accuracy: 0.8373\n",
      "Epoch 416/500\n",
      "19/19 [==============================] - 0s 4ms/step - loss: 0.1194 - accuracy: 0.8507 - val_loss: 0.1091 - val_accuracy: 0.8373\n",
      "Epoch 417/500\n",
      "19/19 [==============================] - 0s 4ms/step - loss: 0.1194 - accuracy: 0.8507 - val_loss: 0.1091 - val_accuracy: 0.8373\n",
      "Epoch 418/500\n",
      "19/19 [==============================] - 0s 4ms/step - loss: 0.1194 - accuracy: 0.8507 - val_loss: 0.1091 - val_accuracy: 0.8373\n",
      "Epoch 419/500\n",
      "19/19 [==============================] - 0s 4ms/step - loss: 0.1194 - accuracy: 0.8507 - val_loss: 0.1091 - val_accuracy: 0.8373\n",
      "Epoch 420/500\n",
      "19/19 [==============================] - 0s 5ms/step - loss: 0.1193 - accuracy: 0.8507 - val_loss: 0.1090 - val_accuracy: 0.8373\n",
      "Epoch 421/500\n",
      "19/19 [==============================] - 0s 5ms/step - loss: 0.1193 - accuracy: 0.8507 - val_loss: 0.1090 - val_accuracy: 0.8373\n",
      "Epoch 422/500\n",
      "19/19 [==============================] - 0s 5ms/step - loss: 0.1193 - accuracy: 0.8507 - val_loss: 0.1090 - val_accuracy: 0.8373\n",
      "Epoch 423/500\n",
      "19/19 [==============================] - 0s 4ms/step - loss: 0.1193 - accuracy: 0.8507 - val_loss: 0.1090 - val_accuracy: 0.8373\n",
      "Epoch 424/500\n",
      "19/19 [==============================] - 0s 4ms/step - loss: 0.1193 - accuracy: 0.8507 - val_loss: 0.1090 - val_accuracy: 0.8373\n",
      "Epoch 425/500\n",
      "19/19 [==============================] - 0s 4ms/step - loss: 0.1193 - accuracy: 0.8507 - val_loss: 0.1090 - val_accuracy: 0.8373\n",
      "Epoch 426/500\n",
      "19/19 [==============================] - 0s 4ms/step - loss: 0.1192 - accuracy: 0.8507 - val_loss: 0.1090 - val_accuracy: 0.8373\n",
      "Epoch 427/500\n",
      "19/19 [==============================] - 0s 4ms/step - loss: 0.1192 - accuracy: 0.8507 - val_loss: 0.1090 - val_accuracy: 0.8373\n",
      "Epoch 428/500\n",
      "19/19 [==============================] - 0s 4ms/step - loss: 0.1192 - accuracy: 0.8507 - val_loss: 0.1090 - val_accuracy: 0.8373\n",
      "Epoch 429/500\n",
      "19/19 [==============================] - 0s 4ms/step - loss: 0.1192 - accuracy: 0.8507 - val_loss: 0.1090 - val_accuracy: 0.8373\n",
      "Epoch 430/500\n",
      "19/19 [==============================] - 0s 4ms/step - loss: 0.1192 - accuracy: 0.8507 - val_loss: 0.1090 - val_accuracy: 0.8373\n",
      "Epoch 431/500\n",
      "19/19 [==============================] - 0s 4ms/step - loss: 0.1192 - accuracy: 0.8523 - val_loss: 0.1090 - val_accuracy: 0.8373\n",
      "Epoch 432/500\n",
      "19/19 [==============================] - 0s 4ms/step - loss: 0.1192 - accuracy: 0.8507 - val_loss: 0.1090 - val_accuracy: 0.8373\n",
      "Epoch 433/500\n",
      "19/19 [==============================] - 0s 4ms/step - loss: 0.1192 - accuracy: 0.8507 - val_loss: 0.1090 - val_accuracy: 0.8373\n",
      "Epoch 434/500\n",
      "19/19 [==============================] - 0s 5ms/step - loss: 0.1191 - accuracy: 0.8507 - val_loss: 0.1090 - val_accuracy: 0.8373\n",
      "Epoch 435/500\n",
      "19/19 [==============================] - 0s 4ms/step - loss: 0.1191 - accuracy: 0.8507 - val_loss: 0.1090 - val_accuracy: 0.8373\n",
      "Epoch 436/500\n",
      "19/19 [==============================] - 0s 4ms/step - loss: 0.1191 - accuracy: 0.8507 - val_loss: 0.1090 - val_accuracy: 0.8373\n",
      "Epoch 437/500\n",
      "19/19 [==============================] - 0s 5ms/step - loss: 0.1191 - accuracy: 0.8507 - val_loss: 0.1090 - val_accuracy: 0.8373\n",
      "Epoch 438/500\n",
      "19/19 [==============================] - 0s 4ms/step - loss: 0.1191 - accuracy: 0.8507 - val_loss: 0.1090 - val_accuracy: 0.8373\n",
      "Epoch 439/500\n",
      "19/19 [==============================] - 0s 4ms/step - loss: 0.1191 - accuracy: 0.8507 - val_loss: 0.1090 - val_accuracy: 0.8373\n",
      "Epoch 440/500\n",
      "19/19 [==============================] - 0s 4ms/step - loss: 0.1191 - accuracy: 0.8507 - val_loss: 0.1090 - val_accuracy: 0.8373\n",
      "Epoch 441/500\n",
      "19/19 [==============================] - 0s 4ms/step - loss: 0.1191 - accuracy: 0.8507 - val_loss: 0.1090 - val_accuracy: 0.8373\n",
      "Epoch 442/500\n",
      "19/19 [==============================] - 0s 4ms/step - loss: 0.1191 - accuracy: 0.8507 - val_loss: 0.1089 - val_accuracy: 0.8373\n",
      "Epoch 443/500\n",
      "19/19 [==============================] - 0s 5ms/step - loss: 0.1191 - accuracy: 0.8507 - val_loss: 0.1089 - val_accuracy: 0.8373\n",
      "Epoch 444/500\n",
      "19/19 [==============================] - 0s 4ms/step - loss: 0.1190 - accuracy: 0.8507 - val_loss: 0.1089 - val_accuracy: 0.8407\n",
      "Epoch 445/500\n",
      "19/19 [==============================] - 0s 5ms/step - loss: 0.1190 - accuracy: 0.8507 - val_loss: 0.1089 - val_accuracy: 0.8407\n",
      "Epoch 446/500\n",
      "19/19 [==============================] - 0s 4ms/step - loss: 0.1190 - accuracy: 0.8507 - val_loss: 0.1090 - val_accuracy: 0.8407\n",
      "Epoch 447/500\n",
      "19/19 [==============================] - 0s 4ms/step - loss: 0.1190 - accuracy: 0.8507 - val_loss: 0.1089 - val_accuracy: 0.8407\n",
      "Epoch 448/500\n",
      "19/19 [==============================] - 0s 4ms/step - loss: 0.1190 - accuracy: 0.8523 - val_loss: 0.1089 - val_accuracy: 0.8407\n",
      "Epoch 449/500\n",
      "19/19 [==============================] - 0s 4ms/step - loss: 0.1190 - accuracy: 0.8507 - val_loss: 0.1089 - val_accuracy: 0.8407\n",
      "Epoch 450/500\n",
      "19/19 [==============================] - 0s 4ms/step - loss: 0.1190 - accuracy: 0.8523 - val_loss: 0.1089 - val_accuracy: 0.8407\n",
      "Epoch 451/500\n",
      "19/19 [==============================] - 0s 4ms/step - loss: 0.1190 - accuracy: 0.8523 - val_loss: 0.1089 - val_accuracy: 0.8407\n",
      "Epoch 452/500\n",
      "19/19 [==============================] - 0s 4ms/step - loss: 0.1190 - accuracy: 0.8523 - val_loss: 0.1089 - val_accuracy: 0.8407\n",
      "Epoch 453/500\n",
      "19/19 [==============================] - 0s 4ms/step - loss: 0.1189 - accuracy: 0.8523 - val_loss: 0.1089 - val_accuracy: 0.8407\n",
      "Epoch 454/500\n",
      "19/19 [==============================] - 0s 4ms/step - loss: 0.1189 - accuracy: 0.8523 - val_loss: 0.1089 - val_accuracy: 0.8407\n",
      "Epoch 455/500\n",
      "19/19 [==============================] - 0s 4ms/step - loss: 0.1189 - accuracy: 0.8523 - val_loss: 0.1089 - val_accuracy: 0.8407\n",
      "Epoch 456/500\n",
      "19/19 [==============================] - 0s 4ms/step - loss: 0.1189 - accuracy: 0.8523 - val_loss: 0.1089 - val_accuracy: 0.8407\n",
      "Epoch 457/500\n",
      "19/19 [==============================] - 0s 4ms/step - loss: 0.1189 - accuracy: 0.8523 - val_loss: 0.1090 - val_accuracy: 0.8407\n",
      "Epoch 458/500\n",
      "19/19 [==============================] - 0s 4ms/step - loss: 0.1189 - accuracy: 0.8523 - val_loss: 0.1090 - val_accuracy: 0.8407\n",
      "Epoch 459/500\n",
      "19/19 [==============================] - 0s 4ms/step - loss: 0.1189 - accuracy: 0.8523 - val_loss: 0.1089 - val_accuracy: 0.8407\n",
      "Epoch 460/500\n",
      "19/19 [==============================] - 0s 4ms/step - loss: 0.1189 - accuracy: 0.8523 - val_loss: 0.1089 - val_accuracy: 0.8407\n",
      "Epoch 461/500\n",
      "19/19 [==============================] - 0s 4ms/step - loss: 0.1189 - accuracy: 0.8523 - val_loss: 0.1089 - val_accuracy: 0.8407\n",
      "Epoch 462/500\n",
      "19/19 [==============================] - 0s 4ms/step - loss: 0.1189 - accuracy: 0.8523 - val_loss: 0.1089 - val_accuracy: 0.8407\n",
      "Epoch 463/500\n",
      "19/19 [==============================] - 0s 4ms/step - loss: 0.1189 - accuracy: 0.8523 - val_loss: 0.1090 - val_accuracy: 0.8407\n",
      "Epoch 464/500\n",
      "19/19 [==============================] - 0s 4ms/step - loss: 0.1189 - accuracy: 0.8523 - val_loss: 0.1090 - val_accuracy: 0.8407\n",
      "Epoch 465/500\n",
      "19/19 [==============================] - 0s 4ms/step - loss: 0.1189 - accuracy: 0.8523 - val_loss: 0.1090 - val_accuracy: 0.8407\n",
      "Epoch 466/500\n",
      "19/19 [==============================] - 0s 4ms/step - loss: 0.1188 - accuracy: 0.8523 - val_loss: 0.1090 - val_accuracy: 0.8407\n",
      "Epoch 467/500\n",
      "19/19 [==============================] - 0s 4ms/step - loss: 0.1188 - accuracy: 0.8523 - val_loss: 0.1090 - val_accuracy: 0.8407\n",
      "Epoch 468/500\n",
      "19/19 [==============================] - 0s 4ms/step - loss: 0.1188 - accuracy: 0.8523 - val_loss: 0.1090 - val_accuracy: 0.8407\n",
      "Epoch 469/500\n",
      "19/19 [==============================] - 0s 4ms/step - loss: 0.1188 - accuracy: 0.8523 - val_loss: 0.1090 - val_accuracy: 0.8407\n",
      "Epoch 470/500\n",
      "19/19 [==============================] - 0s 4ms/step - loss: 0.1188 - accuracy: 0.8523 - val_loss: 0.1090 - val_accuracy: 0.8407\n",
      "Epoch 471/500\n",
      "19/19 [==============================] - 0s 4ms/step - loss: 0.1188 - accuracy: 0.8523 - val_loss: 0.1090 - val_accuracy: 0.8407\n",
      "Epoch 472/500\n",
      "19/19 [==============================] - 0s 4ms/step - loss: 0.1188 - accuracy: 0.8523 - val_loss: 0.1089 - val_accuracy: 0.8407\n",
      "Epoch 473/500\n",
      "19/19 [==============================] - 0s 4ms/step - loss: 0.1188 - accuracy: 0.8523 - val_loss: 0.1089 - val_accuracy: 0.8407\n",
      "Epoch 474/500\n",
      "19/19 [==============================] - 0s 4ms/step - loss: 0.1188 - accuracy: 0.8523 - val_loss: 0.1089 - val_accuracy: 0.8407\n",
      "Epoch 475/500\n",
      "19/19 [==============================] - 0s 4ms/step - loss: 0.1188 - accuracy: 0.8523 - val_loss: 0.1089 - val_accuracy: 0.8407\n",
      "Epoch 476/500\n",
      "19/19 [==============================] - 0s 4ms/step - loss: 0.1188 - accuracy: 0.8523 - val_loss: 0.1090 - val_accuracy: 0.8407\n",
      "Epoch 477/500\n",
      "19/19 [==============================] - 0s 4ms/step - loss: 0.1188 - accuracy: 0.8523 - val_loss: 0.1090 - val_accuracy: 0.8407\n",
      "Epoch 478/500\n",
      "19/19 [==============================] - 0s 4ms/step - loss: 0.1187 - accuracy: 0.8523 - val_loss: 0.1090 - val_accuracy: 0.8407\n",
      "Epoch 479/500\n",
      "19/19 [==============================] - 0s 4ms/step - loss: 0.1187 - accuracy: 0.8523 - val_loss: 0.1089 - val_accuracy: 0.8407\n",
      "Epoch 480/500\n",
      "19/19 [==============================] - 0s 4ms/step - loss: 0.1187 - accuracy: 0.8523 - val_loss: 0.1089 - val_accuracy: 0.8407\n",
      "Epoch 481/500\n",
      "19/19 [==============================] - 0s 4ms/step - loss: 0.1187 - accuracy: 0.8523 - val_loss: 0.1089 - val_accuracy: 0.8407\n",
      "Epoch 482/500\n",
      "19/19 [==============================] - 0s 4ms/step - loss: 0.1187 - accuracy: 0.8523 - val_loss: 0.1089 - val_accuracy: 0.8407\n",
      "Epoch 483/500\n",
      "19/19 [==============================] - 0s 4ms/step - loss: 0.1187 - accuracy: 0.8523 - val_loss: 0.1089 - val_accuracy: 0.8407\n",
      "Epoch 484/500\n",
      "19/19 [==============================] - 0s 4ms/step - loss: 0.1187 - accuracy: 0.8523 - val_loss: 0.1090 - val_accuracy: 0.8407\n",
      "Epoch 485/500\n",
      "19/19 [==============================] - 0s 4ms/step - loss: 0.1187 - accuracy: 0.8523 - val_loss: 0.1089 - val_accuracy: 0.8407\n",
      "Epoch 486/500\n",
      "19/19 [==============================] - 0s 4ms/step - loss: 0.1187 - accuracy: 0.8523 - val_loss: 0.1090 - val_accuracy: 0.8407\n",
      "Epoch 487/500\n",
      "19/19 [==============================] - 0s 4ms/step - loss: 0.1187 - accuracy: 0.8523 - val_loss: 0.1090 - val_accuracy: 0.8407\n",
      "Epoch 488/500\n",
      "19/19 [==============================] - 0s 4ms/step - loss: 0.1187 - accuracy: 0.8523 - val_loss: 0.1090 - val_accuracy: 0.8407\n",
      "Epoch 489/500\n",
      "19/19 [==============================] - 0s 4ms/step - loss: 0.1187 - accuracy: 0.8523 - val_loss: 0.1090 - val_accuracy: 0.8407\n",
      "Epoch 490/500\n",
      "19/19 [==============================] - 0s 4ms/step - loss: 0.1187 - accuracy: 0.8523 - val_loss: 0.1090 - val_accuracy: 0.8407\n",
      "Epoch 491/500\n",
      "19/19 [==============================] - 0s 4ms/step - loss: 0.1186 - accuracy: 0.8523 - val_loss: 0.1090 - val_accuracy: 0.8407\n",
      "Epoch 492/500\n",
      "19/19 [==============================] - 0s 4ms/step - loss: 0.1186 - accuracy: 0.8523 - val_loss: 0.1090 - val_accuracy: 0.8407\n",
      "Epoch 493/500\n",
      "19/19 [==============================] - 0s 4ms/step - loss: 0.1186 - accuracy: 0.8523 - val_loss: 0.1089 - val_accuracy: 0.8407\n",
      "Epoch 494/500\n",
      "19/19 [==============================] - 0s 4ms/step - loss: 0.1186 - accuracy: 0.8523 - val_loss: 0.1089 - val_accuracy: 0.8407\n",
      "Epoch 495/500\n",
      "19/19 [==============================] - 0s 4ms/step - loss: 0.1186 - accuracy: 0.8523 - val_loss: 0.1089 - val_accuracy: 0.8407\n",
      "Epoch 496/500\n",
      "19/19 [==============================] - 0s 4ms/step - loss: 0.1186 - accuracy: 0.8523 - val_loss: 0.1089 - val_accuracy: 0.8407\n",
      "Epoch 497/500\n",
      "19/19 [==============================] - 0s 4ms/step - loss: 0.1186 - accuracy: 0.8523 - val_loss: 0.1089 - val_accuracy: 0.8407\n",
      "Epoch 498/500\n",
      "19/19 [==============================] - 0s 4ms/step - loss: 0.1186 - accuracy: 0.8523 - val_loss: 0.1089 - val_accuracy: 0.8407\n",
      "Epoch 499/500\n",
      "19/19 [==============================] - 0s 4ms/step - loss: 0.1186 - accuracy: 0.8523 - val_loss: 0.1089 - val_accuracy: 0.8407\n",
      "Epoch 500/500\n",
      "19/19 [==============================] - 0s 4ms/step - loss: 0.1186 - accuracy: 0.8523 - val_loss: 0.1089 - val_accuracy: 0.8407\n"
     ]
    }
   ],
   "source": [
    "model_nr = kr.Sequential()\n",
    "model_nr.add(kr.layers.Dense(units=21 , activation='relu'))\n",
    "model_nr.add(kr.layers.Dense(units=1 , activation='sigmoid'))\n",
    "model_nr.compile(loss='mse',optimizer='sgd',metrics=[\"accuracy\"])#loss='mse',optimizer='sgd'\n",
    "y_pred = model_nr.fit(x=X,y=y, epochs=500, validation_split=0.33)\n",
    "\n"
   ]
  },
  {
   "cell_type": "code",
   "execution_count": null,
   "id": "ae98c18a",
   "metadata": {
    "papermill": {
     "duration": 0.073743,
     "end_time": "2022-10-19T13:45:08.561471",
     "exception": false,
     "start_time": "2022-10-19T13:45:08.487728",
     "status": "completed"
    },
    "tags": []
   },
   "outputs": [],
   "source": []
  },
  {
   "cell_type": "code",
   "execution_count": 42,
   "id": "b2eaa1e9",
   "metadata": {
    "execution": {
     "iopub.execute_input": "2022-10-19T13:45:08.707452Z",
     "iopub.status.busy": "2022-10-19T13:45:08.706914Z",
     "iopub.status.idle": "2022-10-19T13:45:08.919955Z",
     "shell.execute_reply": "2022-10-19T13:45:08.918419Z"
    },
    "papermill": {
     "duration": 0.288362,
     "end_time": "2022-10-19T13:45:08.922722",
     "exception": false,
     "start_time": "2022-10-19T13:45:08.634360",
     "status": "completed"
    },
    "tags": []
   },
   "outputs": [
    {
     "data": {
      "text/plain": [
       "<matplotlib.legend.Legend at 0x7f9891199f90>"
      ]
     },
     "execution_count": 42,
     "metadata": {},
     "output_type": "execute_result"
    },
    {
     "data": {
      "image/png": "[encoded data removed]",
      "text/plain": [
       "<Figure size 432x288 with 1 Axes>"
      ]
     },
     "metadata": {
      "needs_background": "light"
     },
     "output_type": "display_data"
    }
   ],
   "source": [
    "plt.title('loss_train / loss_validation')\n",
    "plt.plot(y_pred.history['loss'], label='Train')\n",
    "plt.plot(y_pred.history['val_loss'], label='Train_val')\n",
    "plt.legend()"
   ]
  },
  {
   "cell_type": "code",
   "execution_count": 43,
   "id": "06ef375c",
   "metadata": {
    "execution": {
     "iopub.execute_input": "2022-10-19T13:45:09.066703Z",
     "iopub.status.busy": "2022-10-19T13:45:09.066368Z",
     "iopub.status.idle": "2022-10-19T13:45:09.242613Z",
     "shell.execute_reply": "2022-10-19T13:45:09.241168Z"
    },
    "papermill": {
     "duration": 0.250937,
     "end_time": "2022-10-19T13:45:09.245901",
     "exception": false,
     "start_time": "2022-10-19T13:45:08.994964",
     "status": "completed"
    },
    "tags": []
   },
   "outputs": [
    {
     "data": {
      "text/plain": [
       "<matplotlib.legend.Legend at 0x7f9891087590>"
      ]
     },
     "execution_count": 43,
     "metadata": {},
     "output_type": "execute_result"
    },
    {
     "data": {
      "image/png": "[encoded data removed]",
      "text/plain": [
       "<Figure size 432x288 with 1 Axes>"
      ]
     },
     "metadata": {
      "needs_background": "light"
     },
     "output_type": "display_data"
    }
   ],
   "source": [
    "plt.title('accuracy_train / acuracy_validation')\n",
    "plt.plot(y_pred.history['accuracy'], label='Train')\n",
    "plt.plot(y_pred.history['val_accuracy'], label='Train_val')\n",
    "plt.legend()"
   ]
  },
  {
   "cell_type": "code",
   "execution_count": 44,
   "id": "cea02448",
   "metadata": {
    "execution": {
     "iopub.execute_input": "2022-10-19T13:45:09.388381Z",
     "iopub.status.busy": "2022-10-19T13:45:09.388017Z",
     "iopub.status.idle": "2022-10-19T13:45:09.391943Z",
     "shell.execute_reply": "2022-10-19T13:45:09.391398Z"
    },
    "papermill": {
     "duration": 0.075627,
     "end_time": "2022-10-19T13:45:09.393358",
     "exception": false,
     "start_time": "2022-10-19T13:45:09.317731",
     "status": "completed"
    },
    "tags": []
   },
   "outputs": [],
   "source": [
    "#mix = pd.DataFrame()\n",
    "#mix['log_reg'] = model.predict(x_final)\n",
    "#mix['tree'] = model_tree.predict(x_final)\n",
    "#mix['cvm'] = model_clf.predict(x_final)\n",
    "#mix['boost'] = model_xgb.predict(x_final)\n",
    "                            #mix['gd'] = gd.predict(x_final)\n",
    "#mix['rtree'] = model_random_tree.predict(X_test)\n",
    "#mix['cat'] = model_CatBoost.predict(x_final)\n",
    "#mix['nr'] = model_nr.predict(x_final)"
   ]
  },
  {
   "cell_type": "code",
   "execution_count": 45,
   "id": "b4f3d241",
   "metadata": {
    "execution": {
     "iopub.execute_input": "2022-10-19T13:45:09.534187Z",
     "iopub.status.busy": "2022-10-19T13:45:09.533660Z",
     "iopub.status.idle": "2022-10-19T13:45:09.537992Z",
     "shell.execute_reply": "2022-10-19T13:45:09.536389Z"
    },
    "papermill": {
     "duration": 0.078613,
     "end_time": "2022-10-19T13:45:09.540603",
     "exception": false,
     "start_time": "2022-10-19T13:45:09.461990",
     "status": "completed"
    },
    "tags": []
   },
   "outputs": [],
   "source": [
    "#sur=[]\n",
    "#for i in mix.values:\n",
    "#    if i.mean() == 0.5:\n",
    "#        sur.append(np.random.binomial(1,0.5))\n",
    "#    else:\n",
    "#        sur.append(np.round(i.mean(),0))"
   ]
  },
  {
   "cell_type": "code",
   "execution_count": 46,
   "id": "bea05c14",
   "metadata": {
    "execution": {
     "iopub.execute_input": "2022-10-19T13:45:09.683253Z",
     "iopub.status.busy": "2022-10-19T13:45:09.682738Z",
     "iopub.status.idle": "2022-10-19T13:45:09.686749Z",
     "shell.execute_reply": "2022-10-19T13:45:09.685311Z"
    },
    "papermill": {
     "duration": 0.076758,
     "end_time": "2022-10-19T13:45:09.689062",
     "exception": false,
     "start_time": "2022-10-19T13:45:09.612304",
     "status": "completed"
    },
    "tags": []
   },
   "outputs": [],
   "source": [
    "#mix['Survived'] = sur"
   ]
  },
  {
   "cell_type": "code",
   "execution_count": 47,
   "id": "3c52fcd7",
   "metadata": {
    "execution": {
     "iopub.execute_input": "2022-10-19T13:45:09.829904Z",
     "iopub.status.busy": "2022-10-19T13:45:09.828418Z",
     "iopub.status.idle": "2022-10-19T13:45:09.834107Z",
     "shell.execute_reply": "2022-10-19T13:45:09.832787Z"
    },
    "papermill": {
     "duration": 0.078215,
     "end_time": "2022-10-19T13:45:09.836110",
     "exception": false,
     "start_time": "2022-10-19T13:45:09.757895",
     "status": "completed"
    },
    "tags": []
   },
   "outputs": [],
   "source": [
    "#pd.options.display.max_rows = 100"
   ]
  },
  {
   "cell_type": "code",
   "execution_count": 48,
   "id": "5bc6f873",
   "metadata": {
    "execution": {
     "iopub.execute_input": "2022-10-19T13:45:09.980098Z",
     "iopub.status.busy": "2022-10-19T13:45:09.979696Z",
     "iopub.status.idle": "2022-10-19T13:45:09.991056Z",
     "shell.execute_reply": "2022-10-19T13:45:09.989381Z"
    },
    "papermill": {
     "duration": 0.086878,
     "end_time": "2022-10-19T13:45:09.993750",
     "exception": false,
     "start_time": "2022-10-19T13:45:09.906872",
     "status": "completed"
    },
    "tags": []
   },
   "outputs": [],
   "source": [
    "test_data = pd.read_csv(\"../input/titanic/test.csv\")"
   ]
  },
  {
   "cell_type": "code",
   "execution_count": 49,
   "id": "92842652",
   "metadata": {
    "execution": {
     "iopub.execute_input": "2022-10-19T13:45:10.139377Z",
     "iopub.status.busy": "2022-10-19T13:45:10.139013Z",
     "iopub.status.idle": "2022-10-19T13:45:10.163151Z",
     "shell.execute_reply": "2022-10-19T13:45:10.161295Z"
    },
    "papermill": {
     "duration": 0.101095,
     "end_time": "2022-10-19T13:45:10.165933",
     "exception": false,
     "start_time": "2022-10-19T13:45:10.064838",
     "status": "completed"
    },
    "tags": []
   },
   "outputs": [],
   "source": [
    "sub= pd.DataFrame(test_data[\"PassengerId\"])\n",
    "sub[\"Survived\"] = np.round(model_KNN.predict(X_test),0)\n",
    "sub[\"Survived\"] = sub[\"Survived\"].astype(int)\n",
    "sub.to_csv('submission.csv', index=False)\n"
   ]
  },
  {
   "cell_type": "markdown",
   "id": "3ad6faf9",
   "metadata": {
    "papermill": {
     "duration": 0.073771,
     "end_time": "2022-10-19T13:45:10.312558",
     "exception": false,
     "start_time": "2022-10-19T13:45:10.238787",
     "status": "completed"
    },
    "tags": []
   },
   "source": []
  },
  {
   "cell_type": "code",
   "execution_count": 50,
   "id": "c8283a13",
   "metadata": {
    "execution": {
     "iopub.execute_input": "2022-10-19T13:45:10.456007Z",
     "iopub.status.busy": "2022-10-19T13:45:10.455650Z",
     "iopub.status.idle": "2022-10-19T13:45:10.461517Z",
     "shell.execute_reply": "2022-10-19T13:45:10.460108Z"
    },
    "papermill": {
     "duration": 0.080468,
     "end_time": "2022-10-19T13:45:10.463704",
     "exception": false,
     "start_time": "2022-10-19T13:45:10.383236",
     "status": "completed"
    },
    "tags": []
   },
   "outputs": [],
   "source": [
    "#def boost(x, y):\n",
    " #   X_train, X_test, y_train, y_test = train_test_split(x, y, test_size=0.33, random_state=42)\n",
    "    #      log regress\n",
    " #   model = LogisticRegression().fit(X_train,y_train)\n",
    " #   model.predict(X_test)\n",
    "    #   SVM -метод опорных векторов(неважно показавает себя(( \n",
    "    #model_2 = svm.LinearSVC().fit(X_train,y_train)\n",
    "    #model_2.predict(X_test)\n",
    "    \n",
    "    # LightGBM + GridSearchCV\n",
    "    #model_3 = lgb.LGBMClassifier()\n",
    "    #params = {\n",
    "    #\"n_estimators\": [3, 5, 10, 50, 100, 200], # total tree number\n",
    "    #\"learning_rate\": [0.01, 0.05, 0.1, 0.3], # learning rate\n",
    "    #\"max_depth\": [1, 3, 5, 10, 15], # max depth of each tree\n",
    "    #\"subsample\": [0.6, 0.8, 1] # subsample rate of data\n",
    "    #  }\n",
    "    #model_rs = GridSearchCV(model_3, params, n_jobs=-1, cv=5)\n",
    "    #model_rs.fit(X_train, y_train)\n",
    "    #model_rs.predict(X_test)\n",
    "    \n",
    "    \n",
    " #   return model#,model_2.score(X_test,y_test), model_rs.score(X_test,y_test))"
   ]
  },
  {
   "cell_type": "code",
   "execution_count": 51,
   "id": "19ca98d3",
   "metadata": {
    "execution": {
     "iopub.execute_input": "2022-10-19T13:45:10.607721Z",
     "iopub.status.busy": "2022-10-19T13:45:10.607152Z",
     "iopub.status.idle": "2022-10-19T13:45:10.616154Z",
     "shell.execute_reply": "2022-10-19T13:45:10.615554Z"
    },
    "papermill": {
     "duration": 0.083486,
     "end_time": "2022-10-19T13:45:10.617726",
     "exception": false,
     "start_time": "2022-10-19T13:45:10.534240",
     "status": "completed"
    },
    "tags": []
   },
   "outputs": [
    {
     "data": {
      "text/html": [
       "<div>\n",
       "<style scoped>\n",
       "    .dataframe tbody tr th:only-of-type {\n",
       "        vertical-align: middle;\n",
       "    }\n",
       "\n",
       "    .dataframe tbody tr th {\n",
       "        vertical-align: top;\n",
       "    }\n",
       "\n",
       "    .dataframe thead th {\n",
       "        text-align: right;\n",
       "    }\n",
       "</style>\n",
       "<table border=\"1\" class=\"dataframe\">\n",
       "  <thead>\n",
       "    <tr style=\"text-align: right;\">\n",
       "      <th></th>\n",
       "      <th>PassengerId</th>\n",
       "      <th>Survived</th>\n",
       "    </tr>\n",
       "  </thead>\n",
       "  <tbody>\n",
       "    <tr>\n",
       "      <th>0</th>\n",
       "      <td>892</td>\n",
       "      <td>0</td>\n",
       "    </tr>\n",
       "    <tr>\n",
       "      <th>1</th>\n",
       "      <td>893</td>\n",
       "      <td>0</td>\n",
       "    </tr>\n",
       "    <tr>\n",
       "      <th>2</th>\n",
       "      <td>894</td>\n",
       "      <td>0</td>\n",
       "    </tr>\n",
       "    <tr>\n",
       "      <th>3</th>\n",
       "      <td>895</td>\n",
       "      <td>0</td>\n",
       "    </tr>\n",
       "    <tr>\n",
       "      <th>4</th>\n",
       "      <td>896</td>\n",
       "      <td>1</td>\n",
       "    </tr>\n",
       "    <tr>\n",
       "      <th>...</th>\n",
       "      <td>...</td>\n",
       "      <td>...</td>\n",
       "    </tr>\n",
       "    <tr>\n",
       "      <th>413</th>\n",
       "      <td>1305</td>\n",
       "      <td>0</td>\n",
       "    </tr>\n",
       "    <tr>\n",
       "      <th>414</th>\n",
       "      <td>1306</td>\n",
       "      <td>1</td>\n",
       "    </tr>\n",
       "    <tr>\n",
       "      <th>415</th>\n",
       "      <td>1307</td>\n",
       "      <td>0</td>\n",
       "    </tr>\n",
       "    <tr>\n",
       "      <th>416</th>\n",
       "      <td>1308</td>\n",
       "      <td>0</td>\n",
       "    </tr>\n",
       "    <tr>\n",
       "      <th>417</th>\n",
       "      <td>1309</td>\n",
       "      <td>1</td>\n",
       "    </tr>\n",
       "  </tbody>\n",
       "</table>\n",
       "<p>418 rows × 2 columns</p>\n",
       "</div>"
      ],
      "text/plain": [
       "     PassengerId  Survived\n",
       "0            892         0\n",
       "1            893         0\n",
       "2            894         0\n",
       "3            895         0\n",
       "4            896         1\n",
       "..           ...       ...\n",
       "413         1305         0\n",
       "414         1306         1\n",
       "415         1307         0\n",
       "416         1308         0\n",
       "417         1309         1\n",
       "\n",
       "[418 rows x 2 columns]"
      ]
     },
     "execution_count": 51,
     "metadata": {},
     "output_type": "execute_result"
    }
   ],
   "source": [
    "sub"
   ]
  }
 ],
 "metadata": {
  "kernelspec": {
   "display_name": "Python 3",
   "language": "python",
   "name": "python3"
  },
  "language_info": {
   "codemirror_mode": {
    "name": "ipython",
    "version": 3
   },
   "file_extension": ".py",
   "mimetype": "text/x-python",
   "name": "python",
   "nbconvert_exporter": "python",
   "pygments_lexer": "ipython3",
   "version": "3.7.12"
  },
  "papermill": {
   "default_parameters": {},
   "duration": 83.124197,
   "end_time": "2022-10-19T13:45:13.457735",
   "environment_variables": {},
   "exception": null,
   "input_path": "__notebook__.ipynb",
   "output_path": "__notebook__.ipynb",
   "parameters": {},
   "start_time": "2022-10-19T13:43:50.333538",
   "version": "2.3.4"
  },
  "widgets": {
   "application/vnd.jupyter.widget-state+json": {
    "state": {
     "d09cc1edca044bacbe2985f91b6dec6c": {
      "model_module": "@jupyter-widgets/base",
      "model_module_version": "1.2.0",
      "model_name": "LayoutModel",
      "state": {
       "_model_module": "@jupyter-widgets/base",
       "_model_module_version": "1.2.0",
       "_model_name": "LayoutModel",
       "_view_count": null,
       "_view_module": "@jupyter-widgets/base",
       "_view_module_version": "1.2.0",
       "_view_name": "LayoutView",
       "align_content": null,
       "align_items": null,
       "align_self": "stretch",
       "border": null,
       "bottom": null,
       "display": null,
       "flex": null,
       "flex_flow": null,
       "grid_area": null,
       "grid_auto_columns": null,
       "grid_auto_flow": null,
       "grid_auto_rows": null,
       "grid_column": null,
       "grid_gap": null,
       "grid_row": null,
       "grid_template_areas": null,
       "grid_template_columns": null,
       "grid_template_rows": null,
       "height": "500px",
       "justify_content": null,
       "justify_items": null,
       "left": null,
       "margin": null,
       "max_height": null,
       "max_width": null,
       "min_height": null,
       "min_width": null,
       "object_fit": null,
       "object_position": null,
       "order": null,
       "overflow": null,
       "overflow_x": null,
       "overflow_y": null,
       "padding": null,
       "right": null,
       "top": null,
       "visibility": null,
       "width": null
      }
     },
     "dcc5b32b6d3f423d8c7db9ef38e271ff": {
      "model_module": "catboost-widget",
      "model_module_version": "^1.0.0",
      "model_name": "CatboostWidgetModel",
      "state": {
       "_dom_classes": [],
       "_model_module": "catboost-widget",
       "_model_module_version": "^1.0.0",
       "_model_name": "CatboostWidgetModel",
       "_view_count": null,
       "_view_module": "catboost-widget",
       "_view_module_version": "^1.0.0",
       "_view_name": "CatboostWidgetView",
       "data": {
        "catboost_info": {
         "content": {
          "data": {
           "iterations": [
            {
             "iteration": 0,
             "learn": [
              0.6892088873
             ],
             "passed_time": 0.05637800324,
             "remaining_time": 0.2818900162
            },
            {
             "iteration": 1,
             "learn": [
              0.6853386993
             ],
             "passed_time": 0.05674436039,
             "remaining_time": 0.1134887208
            },
            {
             "iteration": 2,
             "learn": [
              0.6816869173
             ],
             "passed_time": 0.057151375,
             "remaining_time": 0.057151375
            },
            {
             "iteration": 3,
             "learn": [
              0.6777242708
             ],
             "passed_time": 0.05765600352,
             "remaining_time": 0.02882800176
            },
            {
             "iteration": 4,
             "learn": [
              0.6741765093
             ],
             "passed_time": 0.05799088264,
             "remaining_time": 0.01159817653
            },
            {
             "iteration": 5,
             "learn": [
              0.6704532848
             ],
             "passed_time": 0.05835991962,
             "remaining_time": 0
            }
           ],
           "meta": {
            "iteration_count": 6,
            "launch_mode": "Train",
            "learn_metrics": [
             {
              "best_value": "Min",
              "name": "Logloss"
             }
            ],
            "learn_sets": [
             "learn"
            ],
            "name": "experiment",
            "parameters": "",
            "test_metrics": [],
            "test_sets": []
           }
          },
          "passed_iterations": 5,
          "total_iterations": 6
         },
         "name": "catboost_info",
         "path": "catboost_info"
        }
       },
       "layout": "IPY_MODEL_d09cc1edca044bacbe2985f91b6dec6c"
      }
     }
    },
    "version_major": 2,
    "version_minor": 0
   }
  }
 },
 "nbformat": 4,
 "nbformat_minor": 5
}
